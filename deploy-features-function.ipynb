{
 "cells": [
  {
   "cell_type": "code",
   "execution_count": null,
   "metadata": {},
   "outputs": [],
   "source": [
    "import nuclio\n",
    "import os\n",
    "from mlrun import get_or_create_ctx"
   ]
  },
  {
   "cell_type": "code",
   "execution_count": 7,
   "metadata": {},
   "outputs": [
    {
     "name": "stdout",
     "output_type": "stream",
     "text": [
      "[mlrun] 2020-03-09 19:37:12,295 logging run results to: http://10.233.60.111:8080\n"
     ]
    }
   ],
   "source": [
    "context=get_or_create_ctx('deployf')"
   ]
  },
  {
   "cell_type": "markdown",
   "metadata": {},
   "source": [
    "# NetApp volume mounts"
   ]
  },
  {
   "cell_type": "code",
   "execution_count": null,
   "metadata": {},
   "outputs": [],
   "source": [
    "NETAPP_MOUNT_PATH = context.get_param('NETAPP_MOUNT_PATH')\n",
    "NETAPP_PVC_CLAIM = context.get_param('NETAPP_PVC_CLAIM')\n",
    "IGZ_CONTAINER_PATH = context.get_param('IGZ_CONTAINER_PATH')\n",
    "IGZ_MOUNT_PATH = context.get_param('IGZ_MOUNT_PATH')\n",
    "spec = nuclio.ConfigSpec(config={\"spec.triggers.inference.kind\":\"cron\",\n",
    "                                \"spec.triggers.inference.attributes.interval\" :\"5m\",\n",
    "                                \"spec.readinessTimeoutSeconds\" : 360 },\n",
    "                         env={'FROM_TSDB': 0,\n",
    "                             'FEATURES_TABLE': context.get_param('FEATURES_TABLE'),\n",
    "                             'metrics_table': context.get_param('metrics_table'),\n",
    "                             'PREDICTIONS_TABLE': context.get_param('PREDICTIONS_TABLE'),\n",
    "                             'MODEL_FILENAME' : context.get_param('MODEL_FILENAME'),\n",
    "                             'APP_DIR' : context.get_param('APP_DIR'),\n",
    "                             'DATA_DIR' : str(context.get_input('DATA_DIR')),\n",
    "                             'SAVE_TO' : context.get_param('SAVE_TO'),\n",
    "                              'NETAPP_MOUNT_PATH' : NETAPP_MOUNT_PATH\n",
    "                             },\n",
    "                         cmd=['pip install pyarrow pandas scikit-learn==0.20.1 dask[dataframe] dask-kubernetes dask-ml[\"complete\"]==1.0.0',\n",
    "                              'pip install v3io_frames --upgrade',\n",
    "                             'pip install mlrun'],\n",
    "                         \n",
    "                        ).with_v3io().add_volume(IGZ_MOUNT_PATH,IGZ_CONTAINER_PATH,kind='v3io',name='v3io').add_volume(NETAPP_MOUNT_PATH,NETAPP_PVC_CLAIM,kind='pvc',name='netapp')\n",
    "\n",
    "#addr = nuclio.deploy_file(name='nlp',project='ai',verbose=True, spec=spec, tag='v1.1')"
   ]
  },
  {
   "cell_type": "code",
   "execution_count": null,
   "metadata": {},
   "outputs": [],
   "source": []
  },
  {
   "cell_type": "code",
   "execution_count": null,
   "metadata": {},
   "outputs": [],
   "source": [
    "def handler(context):\n",
    "    addr = nuclio.deploy_file(source=os.path.join(context.get_param('APP_DIR'),'data-prep.ipynb'),\n",
    "                                                  name='netops-features',project=context.get_param('PROJECT_NAME'),verbose=True, spec=spec, tag='v1.1')"
   ]
  }
 ],
 "metadata": {
  "kernelspec": {
   "display_name": "Python 3",
   "language": "python",
   "name": "python3"
  },
  "language_info": {
   "codemirror_mode": {
    "name": "ipython",
    "version": 3
   },
   "file_extension": ".py",
   "mimetype": "text/x-python",
   "name": "python",
   "nbconvert_exporter": "python",
   "pygments_lexer": "ipython3",
   "version": "3.6.8"
  }
 },
 "nbformat": 4,
 "nbformat_minor": 4
}
