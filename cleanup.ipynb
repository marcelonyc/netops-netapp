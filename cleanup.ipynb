{
 "cells": [
  {
   "cell_type": "code",
   "execution_count": 3,
   "metadata": {},
   "outputs": [],
   "source": [
    "# nuclio: ignore\n",
    "import nuclio"
   ]
  },
  {
   "cell_type": "code",
   "execution_count": 4,
   "metadata": {},
   "outputs": [],
   "source": [
    "%run set_env.ipynb"
   ]
  },
  {
   "cell_type": "code",
   "execution_count": 5,
   "metadata": {},
   "outputs": [],
   "source": [
    "import os\n",
    "import sys\n",
    "import time"
   ]
  },
  {
   "cell_type": "code",
   "execution_count": 6,
   "metadata": {},
   "outputs": [],
   "source": [
    "def remove(path):\n",
    "    try:\n",
    "     if os.path.exists(path):\n",
    "        os.remove(path)\n",
    "    except OSError:\n",
    "        print (\"Unable to remove file: %s\"%path)"
   ]
  },
  {
   "cell_type": "code",
   "execution_count": 7,
   "metadata": {},
   "outputs": [],
   "source": [
    "def cleanup(context,number_of_hours, path):\n",
    "    \"\"\"\n",
    "    Removes files from the passed in path that are older than or equal \n",
    "    to the number_of_days\n",
    "    \"\"\"\n",
    "    time_in_secs = time.time() - (number_of_hours * 60)\n",
    "    for root, dirs, files in os.walk(path, topdown=False):\n",
    "        for file_ in files:\n",
    "            full_path = os.path.join(root, file_)\n",
    "            stat = os.stat(full_path)\n",
    "            \n",
    "            if stat.st_mtime <= time_in_secs:\n",
    "                #context.logger.info(\"Removing %s\"%full_path )\n",
    "                remove(full_path)\n",
    "            else:\n",
    "                context.logger.info(\"Not Removing %s\"%full_path )\n",
    "            \n",
    "        #if not os.listdir(root):\n",
    "        #    remove(root)"
   ]
  },
  {
   "cell_type": "code",
   "execution_count": 8,
   "metadata": {},
   "outputs": [],
   "source": [
    "def handler(context,event):\n",
    "    cleanup(context,int(os.getenv('HOURS',1)), os.path.join(os.getenv('NETAPP_MOUNT_PATH'),os.getenv('FEATURES_TABLE') ) )\n",
    "    return ''"
   ]
  },
  {
   "cell_type": "code",
   "execution_count": 10,
   "metadata": {},
   "outputs": [],
   "source": [
    "# nuclio: ignore\n",
    "spec = nuclio.ConfigSpec(config={\"spec.triggers.inference.kind\":\"cron\",\n",
    "                                \"spec.triggers.inference.attributes.interval\" :\"5m\",\n",
    "                                \"spec.readinessTimeoutSeconds\" : 360 },\n",
    "                         env={'FEATURES_TABLE': FEATURES_TABLE,\n",
    "                              'NETAPP_MOUNT_PATH' : NETAPP_MOUNT_PATH,\n",
    "                              'HOURS' : 6\n",
    "                             },\n",
    "                        ).with_v3io().add_volume(IGZ_MOUNT_PATH,IGZ_CONTAINER_PATH,kind='v3io',name='v3io').add_volume(NETAPP_MOUNT_PATH,NETAPP_PVC_CLAIM,kind='pvc',name='netapp')"
   ]
  },
  {
   "cell_type": "code",
   "execution_count": 14,
   "metadata": {},
   "outputs": [
    {
     "name": "stdout",
     "output_type": "stream",
     "text": [
      "[nuclio] 2020-03-19 13:48:29,376 updating cleanup\n",
      "[nuclio] 2020-03-19 13:48:29,453 deploying ...\n",
      "[nuclio] 2020-03-19 13:49:09,937 (info) Build complete\n",
      "[nuclio] 2020-03-19 13:49:09,937 {'level': 'info', 'message': 'Build complete', 'name': 'deployer', 'result': {'Image': 'nuclio/netops-cleanup-processor:latest', 'UpdatedFunctionConfig': {'metadata': {'annotations': {'nuclio.io/generated_by': 'function generated at 19-03-2020 by admin from /User/netops-netapp/cleanup.ipynb'}, 'labels': {'nuclio.io/project-name': 'netops', 'nuclio.io/tag': 'v1.1'}, 'name': 'cleanup', 'namespace': 'default-tenant'}, 'spec': {'build': {'codeEntryType': 'sourceCode', 'functionSourceCode': 'IyBHZW5lcmF0ZWQgYnkgbnVjbGlvLmV4cG9ydC5OdWNsaW9FeHBvcnRlciBvbiAyMDIwLTAzLTE5IDEzOjQ4CgppbXBvcnQgb3MKaW1wb3J0IHN5cwppbXBvcnQgdGltZQoKZGVmIHJlbW92ZShwYXRoKToKICAgIHRyeToKICAgICBpZiBvcy5wYXRoLmV4aXN0cyhwYXRoKToKICAgICAgICBvcy5yZW1vdmUocGF0aCkKICAgIGV4Y2VwdCBPU0Vycm9yOgogICAgICAgIHByaW50ICgiVW5hYmxlIHRvIHJlbW92ZSBmaWxlOiAlcyIlcGF0aCkKCmRlZiBjbGVhbnVwKGNvbnRleHQsbnVtYmVyX29mX2hvdXJzLCBwYXRoKToKICAgICIiIgogICAgUmVtb3ZlcyBmaWxlcyBmcm9tIHRoZSBwYXNzZWQgaW4gcGF0aCB0aGF0IGFyZSBvbGRlciB0aGFuIG9yIGVxdWFsIAogICAgdG8gdGhlIG51bWJlcl9vZl9kYXlzCiAgICAiIiIKICAgIHRpbWVfaW5fc2VjcyA9IHRpbWUudGltZSgpIC0gKG51bWJlcl9vZl9ob3VycyAqIDYwKQogICAgZm9yIHJvb3QsIGRpcnMsIGZpbGVzIGluIG9zLndhbGsocGF0aCwgdG9wZG93bj1GYWxzZSk6CiAgICAgICAgZm9yIGZpbGVfIGluIGZpbGVzOgogICAgICAgICAgICBmdWxsX3BhdGggPSBvcy5wYXRoLmpvaW4ocm9vdCwgZmlsZV8pCiAgICAgICAgICAgIHN0YXQgPSBvcy5zdGF0KGZ1bGxfcGF0aCkKICAgICAgICAgICAgCiAgICAgICAgICAgIGlmIHN0YXQuc3RfbXRpbWUgPD0gdGltZV9pbl9zZWNzOgogICAgICAgICAgICAgICAgcmVtb3ZlKGZ1bGxfcGF0aCkKICAgICAgICAgICAgZWxzZToKICAgICAgICAgICAgICAgIGNvbnRleHQubG9nZ2VyLmluZm8oIk5vdCBSZW1vdmluZyAlcyIlZnVsbF9wYXRoICkKICAgICAgICAgICAgCgpkZWYgaGFuZGxlcihjb250ZXh0LGV2ZW50KToKICAgIGNsZWFudXAoY29udGV4dCxpbnQob3MuZ2V0ZW52KCdIT1VSUycsMSkpLCBvcy5wYXRoLmpvaW4ob3MuZ2V0ZW52KCdORVRBUFBfTU9VTlRfUEFUSCcpLG9zLmdldGVudignRkVBVFVSRVNfVEFCTEUnKSApICkKICAgIHJldHVybiAnJwoK', 'noBaseImagesPull': True, 'offline': True, 'registry': 'docker-registry.default-tenant.app.mdl0216.iguazio-cd1.com:80'}, 'env': [{'name': 'FEATURES_TABLE', 'value': 'netops_features_parquet'}, {'name': 'NETAPP_MOUNT_PATH', 'value': '/netapp'}, {'name': 'HOURS', 'value': '6'}, {'name': 'V3IO_FRAMESD', 'value': 'framesd.default-tenant.svc:8080'}, {'name': 'V3IO_USERNAME', 'value': 'admin'}, {'name': 'V3IO_ACCESS_KEY', 'value': '24d076c0-f71b-498c-9ad4-f90260cc0af0'}, {'name': 'V3IO_API', 'value': 'v3io-webapi.default-tenant.svc:8081'}], 'eventTimeout': '', 'handler': 'cleanup:handler', 'platform': {}, 'readinessTimeoutSeconds': 360, 'resources': {}, 'runtime': 'python:3.6', 'triggers': {'inference': {'attributes': {'interval': '5m'}, 'class': '', 'kind': 'cron'}}, 'volumes': [{'volume': {'flexVolume': {'driver': 'v3io/fuse', 'options': {'accessKey': '24d076c0-f71b-498c-9ad4-f90260cc0af0', 'container': 'users', 'subPath': '/admin'}}, 'name': 'v3io'}, 'volumeMount': {'mountPath': '/User', 'name': 'v3io'}}, {'volume': {'name': 'netapp', 'persistentVolumeClaim': {'claimName': 'basic'}}, 'volumeMount': {'mountPath': '/netapp', 'name': 'netapp'}}]}}}, 'time': 1584625749473.2683}\n",
      "[nuclio] 2020-03-19 13:49:16,010 (info) Function deploy complete\n",
      "[nuclio] 2020-03-19 13:49:16,011 {'httpPort': 31533, 'level': 'info', 'message': 'Function deploy complete', 'name': 'deployer', 'time': 1584625755478.8645}\n",
      "[nuclio] 2020-03-19 13:49:16,019 done updating cleanup, function address: 3.20.111.39:31533\n"
     ]
    }
   ],
   "source": [
    "# nuclio: ignore\n",
    "addr = nuclio.deploy_file(source=os.path.join(APP_DIR,'cleanup.ipynb'),\n",
    "                                                  name='cleanup',project=\"netops\",verbose=True, spec=spec, tag='v1.1')"
   ]
  },
  {
   "cell_type": "code",
   "execution_count": null,
   "metadata": {},
   "outputs": [],
   "source": []
  }
 ],
 "metadata": {
  "kernelspec": {
   "display_name": "Python 3",
   "language": "python",
   "name": "python3"
  },
  "language_info": {
   "codemirror_mode": {
    "name": "ipython",
    "version": 3
   },
   "file_extension": ".py",
   "mimetype": "text/x-python",
   "name": "python",
   "nbconvert_exporter": "python",
   "pygments_lexer": "ipython3",
   "version": "3.6.8"
  }
 },
 "nbformat": 4,
 "nbformat_minor": 4
}
