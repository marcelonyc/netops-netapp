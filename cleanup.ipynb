{
 "cells": [
  {
   "cell_type": "code",
   "execution_count": 1,
   "metadata": {},
   "outputs": [],
   "source": [
    "# nuclio: ignore\n",
    "import nuclio"
   ]
  },
  {
   "cell_type": "code",
   "execution_count": 3,
   "metadata": {},
   "outputs": [],
   "source": [
    "%run set_env.ipynb"
   ]
  },
  {
   "cell_type": "code",
   "execution_count": 4,
   "metadata": {},
   "outputs": [],
   "source": [
    "import os\n",
    "import sys\n",
    "import time"
   ]
  },
  {
   "cell_type": "code",
   "execution_count": 5,
   "metadata": {},
   "outputs": [],
   "source": [
    "def remove(path):\n",
    "    try:\n",
    "     if os.path.exists(path):\n",
    "        os.remove(path)\n",
    "    except OSError:\n",
    "        print (\"Unable to remove file: %s\"%path)"
   ]
  },
  {
   "cell_type": "code",
   "execution_count": 6,
   "metadata": {},
   "outputs": [],
   "source": [
    "def cleanup(context,number_of_hours, path):\n",
    "    \"\"\"\n",
    "    Removes files from the passed in path that are older than or equal \n",
    "    to the number_of_days\n",
    "    \"\"\"\n",
    "    time_in_secs = time.time() - (number_of_hours * 60)\n",
    "    for root, dirs, files in os.walk(path, topdown=False):\n",
    "        for file_ in files:\n",
    "            full_path = os.path.join(root, file_)\n",
    "            stat = os.stat(full_path)\n",
    "            \n",
    "            if stat.st_mtime <= time_in_secs:\n",
    "                #context.logger.info(\"Removing %s\"%full_path )\n",
    "                remove(full_path)\n",
    "            else:\n",
    "                context.logger.info(\"Not Removing %s\"%full_path )\n",
    "            \n",
    "        #if not os.listdir(root):\n",
    "        #    remove(root)"
   ]
  },
  {
   "cell_type": "code",
   "execution_count": 7,
   "metadata": {},
   "outputs": [],
   "source": [
    "def handler(context,event):\n",
    "    cleanup(context,int(os.getenv('HOURS',1)), os.path.join(os.getenv('NETAPP_MOUNT_PATH'),os.getenv('FEATURES_TABLE') ) )\n",
    "    return ''"
   ]
  },
  {
   "cell_type": "code",
   "execution_count": 8,
   "metadata": {},
   "outputs": [],
   "source": [
    "# nuclio: ignore\n",
    "spec = nuclio.ConfigSpec(config={\"spec.triggers.inference.kind\":\"cron\",\n",
    "                                \"spec.triggers.inference.attributes.interval\" :\"5m\",\n",
    "                                \"spec.readinessTimeoutSeconds\" : 360 },\n",
    "                         env={'FEATURES_TABLE': FEATURES_TABLE,\n",
    "                              'NETAPP_MOUNT_PATH' : NETAPP_MOUNT_PATH,\n",
    "                              'HOURS' : 6\n",
    "                             },\n",
    "                        ).with_v3io().add_volume(IGZ_MOUNT_PATH,IGZ_CONTAINER_PATH,kind='v3io',name='v3io')\n",
    "if not NETAPP_SIM:\n",
    "    spec.add_volume(NETAPP_MOUNT_PATH,NETAPP_PVC_CLAIM,kind='pvc',name='netapp')"
   ]
  },
  {
   "cell_type": "code",
   "execution_count": null,
   "metadata": {},
   "outputs": [],
   "source": [
    "# nuclio: ignore\n",
    "addr = nuclio.deploy_file(source=os.path.join(APP_DIR,'cleanup.ipynb'),\n",
    "                                                  name='cleanup',project=\"netops\",verbose=True, spec=spec, tag='v1.1')"
   ]
  }
 ],
 "metadata": {
  "kernelspec": {
   "display_name": "Python 3",
   "language": "python",
   "name": "python3"
  },
  "language_info": {
   "codemirror_mode": {
    "name": "ipython",
    "version": 3
   },
   "file_extension": ".py",
   "mimetype": "text/x-python",
   "name": "python",
   "nbconvert_exporter": "python",
   "pygments_lexer": "ipython3",
   "version": "3.6.8"
  }
 },
 "nbformat": 4,
 "nbformat_minor": 4
}
