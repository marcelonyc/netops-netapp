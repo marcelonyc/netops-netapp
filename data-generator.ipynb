{
 "cells": [
  {
   "cell_type": "markdown",
   "metadata": {},
   "source": [
    "# Nuclio - Generator function"
   ]
  },
  {
   "cell_type": "markdown",
   "metadata": {},
   "source": [
    "## Environment"
   ]
  },
  {
   "cell_type": "code",
   "execution_count": 1,
   "metadata": {},
   "outputs": [],
   "source": [
    "# nuclio: ignore\n",
    "import nuclio"
   ]
  },
  {
   "cell_type": "markdown",
   "metadata": {},
   "source": [
    "## NOTE: Restart the kernel if modules get installed"
   ]
  },
  {
   "cell_type": "code",
   "execution_count": 30,
   "metadata": {
    "collapsed": true,
    "jupyter": {
     "outputs_hidden": true
    }
   },
   "outputs": [
    {
     "name": "stdout",
     "output_type": "stream",
     "text": [
      "mlrun                    0.4.7      \n",
      "v3io-generator           0.0.27.dev0\n",
      "pyarrow                  0.16.0     \n",
      "pandas                   1.0.1      \n",
      "pytimeparse              1.1.8      \n",
      "Package                  Version    \n",
      "------------------------ -----------\n",
      "absl-py                  0.9.0      \n",
      "adal                     1.2.2      \n",
      "aiohttp                  3.6.2      \n",
      "argo-models              2.2.1a0    \n",
      "asn1crypto               1.3.0      \n",
      "astor                    0.8.0      \n",
      "async-timeout            3.0.1      \n",
      "attrs                    19.3.0     \n",
      "backcall                 0.1.0      \n",
      "beautifulsoup4           4.8.2      \n",
      "bleach                   3.1.4      \n",
      "blinker                  1.4        \n",
      "blosc                    1.7.0      \n",
      "bokeh                    1.4.0      \n",
      "boto3                    1.12.44    \n",
      "botocore                 1.15.44    \n",
      "cachetools               3.1.1      \n",
      "certifi                  2020.4.5.1 \n",
      "cffi                     1.14.0     \n",
      "chardet                  3.0.4      \n",
      "Click                    7.0        \n",
      "cloudpickle              1.1.1      \n",
      "colorama                 0.4.3      \n",
      "conda                    4.7.11     \n",
      "conda-package-handling   1.6.0      \n",
      "cryptography             2.8        \n",
      "cx-Oracle                7.3.0      \n",
      "cycler                   0.10.0     \n",
      "Cython                   0.29.13    \n",
      "cytoolz                  0.10.1     \n",
      "dask                     2.12.0     \n",
      "dask-glm                 0.2.0      \n",
      "dask-ml                  1.2.0      \n",
      "decorator                4.4.2      \n",
      "defusedxml               0.6.0      \n",
      "Deprecated               1.2.7      \n",
      "dill                     0.3.1.1    \n",
      "distributed              2.14.0     \n",
      "docutils                 0.15.2     \n",
      "entrypoints              0.3        \n",
      "Faker                    4.0.3      \n",
      "fastcache                1.1.0      \n",
      "fsspec                   0.7.1      \n",
      "future                   0.18.2     \n",
      "gast                     0.2.2      \n",
      "gitdb                    4.0.4      \n",
      "GitPython                3.1.1      \n",
      "gmpy2                    2.0.8      \n",
      "google-api-core          1.16.0     \n",
      "google-auth              1.13.1     \n",
      "google-auth-oauthlib     0.4.1      \n",
      "google-cloud-core        1.3.0      \n",
      "google-cloud-storage     1.27.0     \n",
      "google-pasta             0.2.0      \n",
      "google-resumable-media   0.5.0      \n",
      "googleapis-common-protos 1.51.0     \n",
      "graphviz                 0.10.1     \n",
      "grpcio                   1.28.1     \n",
      "grpcio-tools             1.28.1     \n",
      "h5py                     2.10.0     \n",
      "HeapDict                 1.0.1      \n",
      "idna                     2.9        \n",
      "idna-ssl                 1.1.0      \n",
      "imageio                  2.8.0      \n",
      "importlib-metadata       1.5.0      \n",
      "ipykernel                5.1.4      \n",
      "ipython                  7.13.0     \n",
      "ipython-genutils         0.2.0      \n",
      "ipython-sql              0.3.9      \n",
      "ipywidgets               7.5.1      \n",
      "jedi                     0.16.0     \n",
      "jeepney                  0.4.3      \n",
      "Jinja2                   2.11.1     \n",
      "jmespath                 0.9.5      \n",
      "joblib                   0.14.1     \n",
      "json5                    0.9.0      \n",
      "jsonschema               3.2.0      \n",
      "jupyter-client           6.1.2      \n",
      "jupyter-core             4.6.3      \n",
      "jupyterlab               1.0.10     \n",
      "jupyterlab-git           0.8.1      \n",
      "jupyterlab-server        1.0.7      \n",
      "Keras-Applications       1.0.8      \n",
      "Keras-Preprocessing      1.1.0      \n",
      "keyring                  21.2.0     \n",
      "kfp                      0.2.5      \n",
      "kfp-server-api           0.1.40     \n",
      "kiwisolver               1.1.0      \n",
      "kubernetes               10.0.0     \n",
      "lightgbm                 2.3.0      \n",
      "llvmlite                 0.31.0     \n",
      "locket                   0.2.0      \n",
      "lz4                      2.2.1      \n",
      "Markdown                 3.1.1      \n",
      "MarkupSafe               1.1.1      \n",
      "matplotlib               3.1.3      \n",
      "mistune                  0.8.4      \n",
      "mkl-fft                  1.0.15     \n",
      "mkl-random               1.1.0      \n",
      "mkl-service              2.3.0      \n",
      "mlrun                    0.4.7      \n",
      "mpmath                   1.1.0      \n",
      "msgpack                  1.0.0      \n",
      "multidict                4.7.5      \n",
      "multipledispatch         0.6.0      \n",
      "nb-conda                 2.2.1      \n",
      "nb-conda-kernels         2.2.3      \n",
      "nbconvert                5.6.1      \n",
      "nbdime                   1.1.0      \n",
      "nbformat                 5.0.4      \n",
      "nbgitpuller              0.8.0      \n",
      "nest-asyncio             1.3.3      \n",
      "networkx                 2.4        \n",
      "notebook                 6.0.3      \n",
      "nuclio-jupyter           0.8.2      \n",
      "nuclio-sdk               0.1.3      \n",
      "numba                    0.48.0     \n",
      "numexpr                  2.7.1      \n",
      "numpy                    1.18.1     \n",
      "oauthlib                 3.1.0      \n",
      "olefile                  0.46       \n",
      "opt-einsum               3.1.0      \n",
      "packaging                20.3       \n",
      "pandas                   1.0.1      \n",
      "pandocfilters            1.4.2      \n",
      "parso                    0.6.2      \n",
      "partd                    1.1.0      \n",
      "patsy                    0.5.1      \n",
      "pexpect                  4.8.0      \n",
      "pickleshare              0.7.5      \n",
      "Pillow                   7.0.0      \n",
      "pip                      18.1       \n",
      "prettytable              0.7.2      \n",
      "prometheus-client        0.7.1      \n",
      "prompt-toolkit           3.0.4      \n",
      "protobuf                 3.11.3     \n",
      "psutil                   5.7.0      \n",
      "ptyprocess               0.6.0      \n",
      "pyarrow                  0.16.0     \n",
      "pyasn1                   0.4.8      \n",
      "pyasn1-modules           0.2.7      \n",
      "pycosat                  0.6.3      \n",
      "pycparser                2.20       \n",
      "pycurl                   7.43.0.5   \n",
      "Pygments                 2.6.1      \n",
      "PyHive                   0.6.1.dev0 \n",
      "PyJWT                    1.7.1      \n",
      "PyMySQL                  0.9.3      \n",
      "pyOpenSSL                19.1.0     \n",
      "pyparsing                2.4.6      \n",
      "pyrsistent               0.16.0     \n",
      "PySocks                  1.7.1      \n",
      "pyspark                  2.4.4      \n",
      "python-dateutil          2.8.1      \n",
      "pytimeparse              1.1.8      \n",
      "pytz                     2019.3     \n",
      "PyWavelets               1.1.1      \n",
      "PyYAML                   5.3.1      \n",
      "pyzmq                    18.1.1     \n",
      "readme-renderer          25.0       \n",
      "requests                 2.23.0     \n",
      "requests-oauthlib        1.3.0      \n",
      "requests-toolbelt        0.9.1      \n",
      "rsa                      4.0        \n",
      "ruamel-yaml              0.15.87    \n",
      "s3transfer               0.3.3      \n",
      "scikit-image             0.16.2     \n",
      "scikit-learn             0.22.1     \n",
      "scipy                    1.4.1      \n",
      "seaborn                  0.10.0     \n",
      "SecretStorage            3.1.2      \n",
      "Send2Trash               1.5.0      \n",
      "setuptools               46.1.3     \n",
      "sip                      4.19.13    \n",
      "six                      1.14.0     \n",
      "smmap                    3.0.2      \n",
      "sortedcontainers         2.1.0      \n",
      "soupsieve                2.0        \n",
      "SQLAlchemy               1.3.11     \n",
      "sqlparse                 0.3.1      \n",
      "statsmodels              0.11.0     \n",
      "strip-hints              0.1.8      \n",
      "sympy                    1.5.1      \n",
      "tabulate                 0.8.3      \n",
      "tblib                    1.6.0      \n",
      "tensorboard              2.1.0      \n",
      "tensorflow               2.1.0      \n",
      "tensorflow-estimator     2.1.0      \n",
      "termcolor                1.1.0      \n",
      "terminado                0.8.3      \n",
      "testpath                 0.4.4      \n",
      "text-unidecode           1.3        \n",
      "toolz                    0.10.0     \n",
      "torch                    1.4.0      \n",
      "torchvision              0.5.0      \n",
      "toree                    0.3.0      \n",
      "tornado                  6.0.4      \n",
      "tqdm                     4.45.0     \n",
      "traitlets                4.3.3      \n",
      "typing-extensions        3.7.4.2    \n",
      "ujson                    2.0.3      \n",
      "urllib3                  1.25.8     \n",
      "v3io                     0.3.3      \n",
      "v3io-frames              0.7.1      \n",
      "v3io-generator           0.0.27.dev0\n",
      "wcwidth                  0.1.9      \n",
      "webencodings             0.5.1      \n",
      "websocket-client         0.56.0     \n",
      "Werkzeug                 1.0.1      \n",
      "wheel                    0.34.2     \n",
      "widgetsnbextension       3.5.1      \n",
      "wrapt                    1.12.1     \n",
      "xgboost                  1.0.2      \n",
      "xlrd                     1.2.0      \n",
      "yarl                     1.4.2      \n",
      "zict                     2.0.0      \n",
      "zipp                     3.1.0      \n",
      "Requirement already satisfied: pyarrow in /conda/lib/python3.6/site-packages (0.16.0)\n",
      "Requirement already satisfied: numpy>=1.14 in /conda/lib/python3.6/site-packages (from pyarrow) (1.18.1)\n",
      "Requirement already satisfied: six>=1.0.0 in /conda/lib/python3.6/site-packages (from pyarrow) (1.14.0)\n",
      "Requirement already up-to-date: pyyaml in /conda/lib/python3.6/site-packages (5.3.1)\n",
      "Requirement already satisfied: pandas in /conda/lib/python3.6/site-packages (1.0.1)\n",
      "Requirement already satisfied: pytz>=2017.2 in /conda/lib/python3.6/site-packages (from pandas) (2019.3)\n",
      "Requirement already satisfied: numpy>=1.13.3 in /conda/lib/python3.6/site-packages (from pandas) (1.18.1)\n",
      "Requirement already satisfied: python-dateutil>=2.6.1 in /conda/lib/python3.6/site-packages (from pandas) (2.8.1)\n",
      "Requirement already satisfied: six>=1.5 in /conda/lib/python3.6/site-packages (from python-dateutil>=2.6.1->pandas) (1.14.0)\n",
      "Requirement already satisfied: pytimeparse in /User/.pythonlibs/marcelo-jupyter/lib/python3.6/site-packages (1.1.8)\n",
      "Requirement already up-to-date: v3io_frames in /User/.pythonlibs/marcelo-jupyter/lib/python3.6/site-packages (0.7.1)\n",
      "Requirement already satisfied, skipping upgrade: grpcio-tools>=1.26.0 in /conda/lib/python3.6/site-packages (from v3io_frames) (1.28.1)\n",
      "Requirement already satisfied, skipping upgrade: googleapis-common-protos>=1.5.3 in /conda/lib/python3.6/site-packages (from v3io_frames) (1.51.0)\n",
      "Requirement already satisfied, skipping upgrade: requests>=2.19.1 in /conda/lib/python3.6/site-packages (from v3io_frames) (2.23.0)\n",
      "Requirement already satisfied, skipping upgrade: pandas>=0.23.4 in /conda/lib/python3.6/site-packages (from v3io_frames) (1.0.1)\n",
      "Requirement already satisfied, skipping upgrade: protobuf>=3.5.0.post1 in /conda/lib/python3.6/site-packages (from grpcio-tools>=1.26.0->v3io_frames) (3.11.3)\n",
      "Requirement already satisfied, skipping upgrade: grpcio>=1.28.1 in /conda/lib/python3.6/site-packages (from grpcio-tools>=1.26.0->v3io_frames) (1.28.1)\n",
      "Requirement already satisfied, skipping upgrade: chardet<4,>=3.0.2 in /conda/lib/python3.6/site-packages (from requests>=2.19.1->v3io_frames) (3.0.4)\n",
      "Requirement already satisfied, skipping upgrade: urllib3!=1.25.0,!=1.25.1,<1.26,>=1.21.1 in /User/.pythonlibs/marcelo-jupyter/lib/python3.6/site-packages (from requests>=2.19.1->v3io_frames) (1.25.8)\n",
      "Requirement already satisfied, skipping upgrade: idna<3,>=2.5 in /conda/lib/python3.6/site-packages (from requests>=2.19.1->v3io_frames) (2.9)\n",
      "Requirement already satisfied, skipping upgrade: certifi>=2017.4.17 in /conda/lib/python3.6/site-packages (from requests>=2.19.1->v3io_frames) (2020.4.5.1)\n",
      "Requirement already satisfied, skipping upgrade: numpy>=1.13.3 in /conda/lib/python3.6/site-packages (from pandas>=0.23.4->v3io_frames) (1.18.1)\n",
      "Requirement already satisfied, skipping upgrade: python-dateutil>=2.6.1 in /conda/lib/python3.6/site-packages (from pandas>=0.23.4->v3io_frames) (2.8.1)\n",
      "Requirement already satisfied, skipping upgrade: pytz>=2017.2 in /conda/lib/python3.6/site-packages (from pandas>=0.23.4->v3io_frames) (2019.3)\n",
      "Requirement already satisfied, skipping upgrade: six>=1.9 in /conda/lib/python3.6/site-packages (from protobuf>=3.5.0.post1->grpcio-tools>=1.26.0->v3io_frames) (1.14.0)\n",
      "Requirement already satisfied, skipping upgrade: setuptools in /User/.pythonlibs/marcelo-jupyter/lib/python3.6/site-packages (from protobuf>=3.5.0.post1->grpcio-tools>=1.26.0->v3io_frames) (46.1.3)\n",
      "Looking in indexes: https://test.pypi.org/simple/\n",
      "Requirement already satisfied: v3io-generator in /User/.pythonlibs/marcelo-jupyter/lib/python3.6/site-packages (0.0.27.dev0)\n",
      "Requirement already satisfied: faker in /User/.pythonlibs/marcelo-jupyter/lib/python3.6/site-packages (4.0.3)\n",
      "Requirement already satisfied: text-unidecode==1.3 in /User/.pythonlibs/marcelo-jupyter/lib/python3.6/site-packages (from faker) (1.3)\n",
      "Requirement already satisfied: python-dateutil>=2.4 in /conda/lib/python3.6/site-packages (from faker) (2.8.1)\n",
      "Requirement already satisfied: six>=1.5 in /conda/lib/python3.6/site-packages (from python-dateutil>=2.4->faker) (1.14.0)\n"
     ]
    }
   ],
   "source": [
    "%run set_env.ipynb"
   ]
  },
  {
   "cell_type": "markdown",
   "metadata": {},
   "source": [
    "### Configurations"
   ]
  },
  {
   "cell_type": "code",
   "execution_count": 31,
   "metadata": {},
   "outputs": [],
   "source": [
    "import os\n",
    "import datetime"
   ]
  },
  {
   "cell_type": "code",
   "execution_count": 32,
   "metadata": {},
   "outputs": [],
   "source": [
    "# nuclio: ignore\n",
    "spec = nuclio.ConfigSpec(config={\"spec.triggers.inference.kind\":\"cron\",\n",
    "                                \"spec.triggers.inference.attributes.interval\" :\"10m\",\n",
    "                                \"spec.readinessTimeoutSeconds\" : 60,\n",
    "                                \"spec.minReplicas\" : 1},\n",
    "                         env={\n",
    "                             'SAVE_TO' : NETAPP_MOUNT_PATH,\n",
    "                             'METRICS_CONFIGURATION_FILEPATH' : os.path.join(APP_DIR,\"configurations/metricsconfiguration.yaml\"),\n",
    "                             'SECS_TO_GENERATE' : 30000,\n",
    "                             'metrics_table' : metrics_table,\n",
    "                             'NETAPP_MOUNT_PATH' : NETAPP_MOUNT_PATH,\n",
    "                            'SAVE_DEPLOYMENT' : 1,\n",
    "                                'DEPLOYMENT_TABLE' : \"netops_devices\",\n",
    "                                'SAVE_TO_TSDB' : 0},\n",
    "                         cmd=['pip install pyarrow pandas pytimeparse faker',\n",
    "                              'pip install v3io_frames pyyaml --upgrade',\n",
    "                             'pip install -i https://test.pypi.org/simple/ v3io-generator'],\n",
    "                         \n",
    "                        ).with_v3io().add_volume(IGZ_MOUNT_PATH,IGZ_CONTAINER_PATH,kind='v3io',name='v3io')\n",
    "if not NETAPP_SIM:\n",
    "    spec.add_volume(NETAPP_MOUNT_PATH,NETAPP_PVC_CLAIM,kind='pvc',name='netapp')"
   ]
  },
  {
   "cell_type": "markdown",
   "metadata": {},
   "source": [
    "## Function"
   ]
  },
  {
   "cell_type": "code",
   "execution_count": 33,
   "metadata": {},
   "outputs": [],
   "source": [
    "# import os # Already imported earlier\n",
    "import time\n",
    "import yaml\n",
    "import pandas as pd\n",
    "import itertools\n",
    "\n",
    "# DB Connection\n",
    "import v3io_frames as v3f\n",
    "\n",
    "# Data generator\n",
    "from v3io_generator import metrics_generator, deployment_generator"
   ]
  },
  {
   "cell_type": "markdown",
   "metadata": {},
   "source": [
    "### Helper functions"
   ]
  },
  {
   "cell_type": "code",
   "execution_count": 34,
   "metadata": {},
   "outputs": [],
   "source": [
    "def _create_deployment():\n",
    "    print('creating deployment')\n",
    "    # Create meta-data factory\n",
    "    dep_gen = deployment_generator.deployment_generator()\n",
    "    faker=dep_gen.get_faker()\n",
    "\n",
    "    # Design meta-data\n",
    "    dep_gen.add_level(name='company',number=2,level_type=faker.company)\n",
    "    dep_gen.add_level('data_center',number=2,level_type=faker.street_name)\n",
    "    dep_gen.add_level('device',number=2,level_type=faker.msisdn)\n",
    "\n",
    "    # Create meta-data\n",
    "    deployment_df = dep_gen.generate_deployment()\n",
    "    return deployment_df"
   ]
  },
  {
   "cell_type": "code",
   "execution_count": 35,
   "metadata": {},
   "outputs": [],
   "source": [
    "def _is_deployment_exist(path):\n",
    "    # Checking shared path for the devices table\n",
    "    return os.path.exists(f'/v3io/bigdata/{path}')"
   ]
  },
  {
   "cell_type": "code",
   "execution_count": 36,
   "metadata": {},
   "outputs": [],
   "source": [
    "def _get_deployment_from_kv(client, path):\n",
    "    print(f'Retrieving deployment from {path}')\n",
    "    context.logger.debug(f'Retrieving deployment from {path}')\n",
    "    # Read the devices table from our KV store\n",
    "    deployment_df = client.read(backend='kv', table=path)\n",
    "    \n",
    "    # Reset index to column\n",
    "    deployment_df.index.name = 'device'\n",
    "    deployment_df = deployment_df.reset_index()\n",
    "    return deployment_df"
   ]
  },
  {
   "cell_type": "code",
   "execution_count": 37,
   "metadata": {},
   "outputs": [],
   "source": [
    "def _save_deployment_to_kv(path, df, client=v3f.Client('framesd:8081')):\n",
    "    # Save deployment to our KV store\n",
    "    client.write(backend='kv', table='netops_devices',dfs=df, index_cols=['device'])"
   ]
  },
  {
   "cell_type": "code",
   "execution_count": 38,
   "metadata": {},
   "outputs": [],
   "source": [
    "def get_or_create_deployment(path, save_to_cloud=False, client=None):\n",
    "    if client and _is_deployment_exist(path):\n",
    "        # Get deployment from KV\n",
    "        deployment_df = _get_deployment_from_kv(client, path)\n",
    "    else:\n",
    "        # Create deployment\n",
    "        deployment_df = _create_deployment()\n",
    "        \n",
    "        if client and save_to_cloud:\n",
    "            _save_deployment_to_kv(path, deployment_df, client)\n",
    "\n",
    "    return deployment_df"
   ]
  },
  {
   "cell_type": "code",
   "execution_count": 39,
   "metadata": {},
   "outputs": [],
   "source": [
    "def set_indexes(df):\n",
    "    df = df.set_index(['timestamp', 'company', 'data_center', 'device'])\n",
    "    return df"
   ]
  },
  {
   "cell_type": "code",
   "execution_count": 40,
   "metadata": {},
   "outputs": [],
   "source": [
    "def save_metrics_to_tsdb(context, metrics: pd.DataFrame):\n",
    "    print('Saving metrics to TSDB',time.time())\n",
    "    \n",
    "    context.v3f.write('tsdb', context.metrics_table, metrics)"
   ]
  },
  {
   "cell_type": "code",
   "execution_count": 41,
   "metadata": {},
   "outputs": [],
   "source": [
    "def save_metrics_to_parquet(context, metrics):\n",
    "    print('Saving metrics to Parquet',time.time())\n",
    "    df = pd.concat(itertools.chain(metrics))\n",
    "    \n",
    "    # Need to fix timestamps from ns to ms if we write to parquet\n",
    "    df = df.reset_index()\n",
    "    df['timestamp'] = df.loc[:, 'timestamp'].astype('datetime64[ms]')\n",
    "    \n",
    "    # Fix indexes\n",
    "    df = set_indexes(df)\n",
    "    \n",
    "    # Save parquet\n",
    "    first_timestamp = df.index[0][0].strftime('%Y%m%dT%H%M%S')\n",
    "    last_timestamp = df.index[-1][0].strftime('%Y%m%dT%H%M%S')\n",
    "    filename = first_timestamp + '-' + last_timestamp + '.parquet'\n",
    "    print(filename,time.time())\n",
    "    filepath = os.path.join(context.metrics_table, filename)\n",
    "    print(filepath,time.time())\n",
    "    with open(filepath, 'wb+') as f:\n",
    "        df.to_parquet(f)"
   ]
  },
  {
   "cell_type": "code",
   "execution_count": 42,
   "metadata": {},
   "outputs": [],
   "source": [
    "def is_deployment_initialized(context):\n",
    "    return hasattr(context, 'metric_generator')"
   ]
  },
  {
   "cell_type": "markdown",
   "metadata": {},
   "source": [
    "### Init context"
   ]
  },
  {
   "cell_type": "code",
   "execution_count": 43,
   "metadata": {},
   "outputs": [],
   "source": [
    "def init_context(context):\n",
    "    \n",
    "    # Get saving configuration\n",
    "    save_to_tsdb = (int(os.getenv('SAVE_TO_TSDB', 1)) == 1)\n",
    "    \n",
    "    # Set metrics table\n",
    "    metrics_table = os.path.join(os.getenv('NETAPP_MOUNT_PATH', 'netops_metrics'),os.getenv('metrics_table','metrics_table'))\n",
    "    setattr(context, 'metrics_table', metrics_table) \n",
    "\n",
    "    # TSDB Based demo\n",
    "    if save_to_tsdb:\n",
    "        context.logger.debug('Saving to TSDB')\n",
    "        # Create our DB client\n",
    "        client = v3f.Client(address='framesd:8081', container='bigdata')\n",
    "        \n",
    "        # Create TSDB table if needed\n",
    "        client.create('tsdb', metrics_table, rate='1/s', if_exists=1)\n",
    "        \n",
    "        # Set saving function\n",
    "        setattr(context, 'write', save_metrics_to_tsdb)\n",
    "    \n",
    "    # Parquet based demo\n",
    "    else:\n",
    "        context.logger.debug('Saving to Parquet')\n",
    "        # Set empty client for verification purposes\n",
    "        client = None\n",
    "          \n",
    "        # Create saving directory\n",
    "        filepath = os.path.join(metrics_table)\n",
    "        if not os.path.exists(filepath):\n",
    "            os.makedirs(filepath)\n",
    "        \n",
    "        # Set saving function\n",
    "        setattr(context, 'write', save_metrics_to_parquet)\n",
    "    \n",
    "          \n",
    "    # Set batch endtime\n",
    "    secs_to_generate = os.getenv('SECS_TO_GENERATE', 10)\n",
    "    setattr(context, 'secs_to_generate', secs_to_generate)\n",
    "    \n",
    "     \n",
    "    \n",
    "    # Generate or create deployment\n",
    "    deployment_df = get_or_create_deployment(os.environ['DEPLOYMENT_TABLE'], os.environ['SAVE_DEPLOYMENT'], client)\n",
    "    \n",
    "    deployment_df['cpu_utilization'] = 70\n",
    "    deployment_df['latency'] = 0\n",
    "    deployment_df['packet_loss'] = 0\n",
    "    deployment_df['throughput'] = 290\n",
    "    deployment_df.head()\n",
    "    \n",
    "    # Get metrics configuration\n",
    "    with open(os.getenv('METRICS_CONFIGURATION_FILEPATH', '/configurations/metrics-configuration.yaml'), 'r') as f:\n",
    "        metrics_configuration = yaml.load(f)\n",
    "        \n",
    "    # Create metrics generator\n",
    "    initial_timestamp = int(os.getenv('initial_timestamp', (datetime.datetime.now()-datetime.timedelta(days=1)).timestamp()))\n",
    "    met_gen = metrics_generator.Generator_df(metrics_configuration, \n",
    "                                             user_hierarchy=deployment_df, \n",
    "                                             initial_timestamp=initial_timestamp)\n",
    "    setattr(context, 'metric_generator', met_gen)\n",
    "    \n",
    "    # Set client\n",
    "    setattr(context, 'v3f', client)\n"
   ]
  },
  {
   "cell_type": "markdown",
   "metadata": {},
   "source": [
    "### Handler"
   ]
  },
  {
   "cell_type": "code",
   "execution_count": 44,
   "metadata": {},
   "outputs": [],
   "source": [
    "def handler(context, event):\n",
    "       \n",
    "    # Create metrics generator based on YAML configuration and deployment\n",
    "    metrics = context.metric_generator.generate_range(start_time=datetime.datetime.now(),\n",
    "                                     end_time=datetime.datetime.now()+datetime.timedelta(seconds=int(context.secs_to_generate)),\n",
    "                                     as_df=True,\n",
    "                                     as_iterator=True)\n",
    "    \n",
    "    # Save Generated metrics\n",
    "    context.write(context, metrics)"
   ]
  },
  {
   "cell_type": "markdown",
   "metadata": {},
   "source": [
    "## Test"
   ]
  },
  {
   "cell_type": "code",
   "execution_count": 45,
   "metadata": {},
   "outputs": [
    {
     "name": "stdout",
     "output_type": "stream",
     "text": [
      "CPU times: user 2 µs, sys: 1 µs, total: 3 µs\n",
      "Wall time: 5.72 µs\n"
     ]
    }
   ],
   "source": [
    "%%time\n",
    "# nuclio: ignore\n",
    "## \n",
    "#init_context(context)\n",
    "#event = nuclio.Event(body='')\n",
    "#output = handler(context, event)\n",
    "#output"
   ]
  },
  {
   "cell_type": "markdown",
   "metadata": {},
   "source": [
    "# Deploy"
   ]
  },
  {
   "cell_type": "code",
   "execution_count": 46,
   "metadata": {},
   "outputs": [
    {
     "name": "stdout",
     "output_type": "stream",
     "text": [
      "[nuclio] 2020-05-07 16:18:25,216 (info) Build complete\n",
      "[nuclio] 2020-05-07 16:18:31,284 (info) Function deploy complete\n",
      "[nuclio] 2020-05-07 16:18:31,289 done updating generator, function address: 3.136.152.229:32028\n"
     ]
    }
   ],
   "source": [
    "# nuclio: ignore\n",
    "#%nuclio deploy -p netops -n generator -c\n",
    "addr = nuclio.deploy_file(name='generator',project='netops',spec=spec, tag='v1.1')\n"
   ]
  },
  {
   "cell_type": "markdown",
   "metadata": {},
   "source": [
    "## Run the next line 2 or 3 times to generate data. It takes about 3 - 4 minutes to complete"
   ]
  },
  {
   "cell_type": "code",
   "execution_count": 48,
   "metadata": {},
   "outputs": [],
   "source": [
    "!curl -X POST {addr}"
   ]
  },
  {
   "cell_type": "code",
   "execution_count": null,
   "metadata": {},
   "outputs": [],
   "source": []
  }
 ],
 "metadata": {
  "kernelspec": {
   "display_name": "Python 3",
   "language": "python",
   "name": "python3"
  },
  "language_info": {
   "codemirror_mode": {
    "name": "ipython",
    "version": 3
   },
   "file_extension": ".py",
   "mimetype": "text/x-python",
   "name": "python",
   "nbconvert_exporter": "python",
   "pygments_lexer": "ipython3",
   "version": "3.6.8"
  }
 },
 "nbformat": 4,
 "nbformat_minor": 4
}
