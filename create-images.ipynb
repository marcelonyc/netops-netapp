{
 "cells": [
  {
   "cell_type": "code",
   "execution_count": 1,
   "metadata": {},
   "outputs": [],
   "source": [
    "from mlrun import new_function\n",
    "from mlrun import mount_v3io\n",
    "import yaml\n",
    "import sys\n",
    "import json\n",
    "import os"
   ]
  },
  {
   "cell_type": "code",
   "execution_count": 2,
   "metadata": {},
   "outputs": [],
   "source": [
    "%run set_env.ipynb"
   ]
  },
  {
   "cell_type": "code",
   "execution_count": 8,
   "metadata": {},
   "outputs": [],
   "source": [
    "fn = new_function(kind='job')"
   ]
  },
  {
   "cell_type": "markdown",
   "metadata": {},
   "source": [
    "## Create image for trainign pipeline"
   ]
  },
  {
   "cell_type": "code",
   "execution_count": 4,
   "metadata": {
    "scrolled": true
   },
   "outputs": [
    {
     "name": "stdout",
     "output_type": "stream",
     "text": [
      "[mlrun] 2020-03-16 19:39:53,645 starting remote build, image: docker-registry.default-tenant.app.mdl0216.iguazio-cd1.com:80/iguazio/netapp\n",
      "\u001b[36mINFO\u001b[0m[0000] Resolved base name mlrun/mlrun:0.4.5 to mlrun/mlrun:0.4.5 \n",
      "\u001b[36mINFO\u001b[0m[0000] Resolved base name mlrun/mlrun:0.4.5 to mlrun/mlrun:0.4.5 \n",
      "\u001b[36mINFO\u001b[0m[0000] Downloading base image mlrun/mlrun:0.4.5     \n",
      "\u001b[36mINFO\u001b[0m[0000] Error while retrieving image from cache: getting file info: stat /cache/sha256:b45889c7d5afcb01bebb5e23aecb4ab759ee2f2931cfb639fe622d5118cdbac2: no such file or directory \n",
      "\u001b[36mINFO\u001b[0m[0000] Downloading base image mlrun/mlrun:0.4.5     \n",
      "\u001b[36mINFO\u001b[0m[0000] Built cross stage deps: map[]                \n",
      "\u001b[36mINFO\u001b[0m[0000] Downloading base image mlrun/mlrun:0.4.5     \n",
      "\u001b[36mINFO\u001b[0m[0000] Error while retrieving image from cache: getting file info: stat /cache/sha256:b45889c7d5afcb01bebb5e23aecb4ab759ee2f2931cfb639fe622d5118cdbac2: no such file or directory \n",
      "\u001b[36mINFO\u001b[0m[0000] Downloading base image mlrun/mlrun:0.4.5     \n",
      "\u001b[36mINFO\u001b[0m[0000] Unpacking rootfs as cmd RUN pip install v3io_frames fsspec>=0.3.3 PyYAML==5.1.2 pyarrow==0.15.1 pandas==0.25.3 matplotlib seaborn yellowbrick sklearn dask-kubernetes dask-ml[\"complete\"]==1.0.0 dask-xgboost==0.1.7 requires it. \n",
      "\u001b[36mINFO\u001b[0m[0023] Taking snapshot of full filesystem...        \n",
      "\u001b[36mINFO\u001b[0m[0040] RUN pip install v3io_frames fsspec>=0.3.3 PyYAML==5.1.2 pyarrow==0.15.1 pandas==0.25.3 matplotlib seaborn yellowbrick sklearn dask-kubernetes dask-ml[\"complete\"]==1.0.0 dask-xgboost==0.1.7 \n",
      "\u001b[36mINFO\u001b[0m[0040] cmd: /bin/sh                                 \n",
      "\u001b[36mINFO\u001b[0m[0040] args: [-c pip install v3io_frames fsspec>=0.3.3 PyYAML==5.1.2 pyarrow==0.15.1 pandas==0.25.3 matplotlib seaborn yellowbrick sklearn dask-kubernetes dask-ml[\"complete\"]==1.0.0 dask-xgboost==0.1.7] \n",
      "WARNING: You are using pip version 19.2.3, however version 20.0.2 is available.\n",
      "You should consider upgrading via the 'pip install --upgrade pip' command.\n",
      "\u001b[36mINFO\u001b[0m[0110] Taking snapshot of full filesystem...        \n",
      "\u001b[36mINFO\u001b[0m[0114] Adding whiteout for /usr/local/lib/python3.6/site-packages/PyYAML-5.3.dist-info \n"
     ]
    },
    {
     "data": {
      "text/plain": [
       "True"
      ]
     },
     "execution_count": 4,
     "metadata": {},
     "output_type": "execute_result"
    }
   ],
   "source": [
    "fn.build_config(image=docker_registry+'/iguazio/netapp', commands=['pip install \\\n",
    "v3io_frames fsspec>=0.3.3 PyYAML==5.1.2 pyarrow==0.15.1 pandas==0.25.3 matplotlib seaborn yellowbrick sklearn dask-kubernetes dask-ml[\"complete\"]==1.0.0 dask-xgboost==0.1.7'])\n",
    "fn.deploy()"
   ]
  },
  {
   "cell_type": "markdown",
   "metadata": {},
   "source": [
    "## Create image for Ontap utilitites"
   ]
  },
  {
   "cell_type": "code",
   "execution_count": 9,
   "metadata": {
    "scrolled": true
   },
   "outputs": [
    {
     "name": "stdout",
     "output_type": "stream",
     "text": [
      "[mlrun] 2020-03-19 12:02:50,697 starting remote build, image: docker-registry.default-tenant.app.mdl0216.iguazio-cd1.com:80/netapp/pipeline:latest\n",
      "\u001b[36mINFO\u001b[0m[0000] Resolved base name mlrun/mlrun:0.4.5 to mlrun/mlrun:0.4.5 \n",
      "\u001b[36mINFO\u001b[0m[0000] Resolved base name mlrun/mlrun:0.4.5 to mlrun/mlrun:0.4.5 \n",
      "\u001b[36mINFO\u001b[0m[0000] Downloading base image mlrun/mlrun:0.4.5     \n",
      "\u001b[36mINFO\u001b[0m[0000] Error while retrieving image from cache: getting file info: stat /cache/sha256:b45889c7d5afcb01bebb5e23aecb4ab759ee2f2931cfb639fe622d5118cdbac2: no such file or directory \n",
      "\u001b[36mINFO\u001b[0m[0000] Downloading base image mlrun/mlrun:0.4.5     \n",
      "\u001b[36mINFO\u001b[0m[0000] Built cross stage deps: map[]                \n",
      "\u001b[36mINFO\u001b[0m[0000] Downloading base image mlrun/mlrun:0.4.5     \n",
      "\u001b[36mINFO\u001b[0m[0000] Error while retrieving image from cache: getting file info: stat /cache/sha256:b45889c7d5afcb01bebb5e23aecb4ab759ee2f2931cfb639fe622d5118cdbac2: no such file or directory \n",
      "\u001b[36mINFO\u001b[0m[0000] Downloading base image mlrun/mlrun:0.4.5     \n",
      "\u001b[36mINFO\u001b[0m[0000] Unpacking rootfs as cmd RUN apt -y update requires it. \n",
      "\u001b[36mINFO\u001b[0m[0024] Taking snapshot of full filesystem...        \n",
      "\u001b[36mINFO\u001b[0m[0041] RUN apt -y update                            \n",
      "\u001b[36mINFO\u001b[0m[0041] cmd: /bin/sh                                 \n",
      "\u001b[36mINFO\u001b[0m[0041] args: [-c apt -y update]                     \n",
      "\n",
      "WARNING: apt does not have a stable CLI interface. Use with caution in scripts.\n",
      "\n",
      "Get:1 http://security.debian.org/debian-security buster/updates InRelease [65.4 kB]\n",
      "Get:2 http://deb.debian.org/debian buster InRelease [122 kB]\n",
      "Get:3 http://deb.debian.org/debian buster-updates InRelease [49.3 kB]\n",
      "Get:4 http://security.debian.org/debian-security buster/updates/main amd64 Packages [183 kB]\n",
      "Get:5 http://deb.debian.org/debian buster/main amd64 Packages [7907 kB]\n",
      "Get:6 http://deb.debian.org/debian buster-updates/main amd64 Packages [7380 B]\n",
      "Fetched 8333 kB in 2s (4557 kB/s)\n",
      "Reading package lists...\n",
      "Building dependency tree...\n",
      "Reading state information...\n",
      "74 packages can be upgraded. Run 'apt list --upgradable' to see them.\n",
      "\u001b[36mINFO\u001b[0m[0043] Taking snapshot of full filesystem...        \n",
      "\u001b[36mINFO\u001b[0m[0047] RUN pip install v3io_frames netapp_ontap     \n",
      "\u001b[36mINFO\u001b[0m[0047] cmd: /bin/sh                                 \n",
      "\u001b[36mINFO\u001b[0m[0047] args: [-c pip install v3io_frames netapp_ontap] \n",
      "Collecting v3io_frames\n",
      "  Downloading https://files.pythonhosted.org/packages/60/87/9961e0bcd4aa2e3ec2188fca7c20428b15e8a19eb2aae1a40306bd1e5003/v3io_frames-0.6.14-py3-none-any.whl\n",
      "Collecting netapp_ontap\n",
      "  Downloading https://files.pythonhosted.org/packages/01/f2/fcf425a35babcdc32776fe10f47cdd41f4edc9178217ba1489bf2991e84d/netapp_ontap-9.7.0-py3-none-any.whl (882kB)\n",
      "Requirement already satisfied: requests>=2.19.1 in /usr/local/lib/python3.6/site-packages (from v3io_frames) (2.23.0)\n",
      "Requirement already satisfied: googleapis-common-protos>=1.5.3 in /usr/local/lib/python3.6/site-packages (from v3io_frames) (1.51.0)\n",
      "Collecting grpcio-tools>=1.26.0 (from v3io_frames)\n",
      "  Downloading https://files.pythonhosted.org/packages/2f/5c/9906632341bf5e67d4934ce1fe72d1c74dae96b64ae1e8c2bfb2a04e8e35/grpcio_tools-1.27.2-cp36-cp36m-manylinux2010_x86_64.whl (2.4MB)\n",
      "Requirement already satisfied: pandas>=0.23.4 in /usr/local/lib/python3.6/site-packages (from v3io_frames) (0.25.3)\n",
      "Collecting marshmallow>=3.2.1 (from netapp_ontap)\n",
      "  Downloading https://files.pythonhosted.org/packages/d8/0b/bb43d7610e71d87e8537025841c248471dbf938c676d32b8f94c82148c04/marshmallow-3.5.1-py2.py3-none-any.whl (45kB)\n",
      "Requirement already satisfied: urllib3!=1.25.0,!=1.25.1,<1.26,>=1.21.1 in /usr/local/lib/python3.6/site-packages (from requests>=2.19.1->v3io_frames) (1.24.3)\n",
      "Requirement already satisfied: idna<3,>=2.5 in /usr/local/lib/python3.6/site-packages (from requests>=2.19.1->v3io_frames) (2.9)\n",
      "Requirement already satisfied: certifi>=2017.4.17 in /usr/local/lib/python3.6/site-packages (from requests>=2.19.1->v3io_frames) (2019.11.28)\n",
      "Requirement already satisfied: chardet<4,>=3.0.2 in /usr/local/lib/python3.6/site-packages (from requests>=2.19.1->v3io_frames) (3.0.4)\n",
      "Requirement already satisfied: protobuf>=3.6.0 in /usr/local/lib/python3.6/site-packages (from googleapis-common-protos>=1.5.3->v3io_frames) (3.11.3)\n",
      "Collecting grpcio>=1.27.2 (from grpcio-tools>=1.26.0->v3io_frames)\n",
      "  Downloading https://files.pythonhosted.org/packages/28/df/1f8a284a5e5819ae07d50bd76996d6f7208afef7533e4896fa1c6445574f/grpcio-1.27.2-cp36-cp36m-manylinux2010_x86_64.whl (2.7MB)\n",
      "Requirement already satisfied: python-dateutil>=2.6.1 in /usr/local/lib/python3.6/site-packages (from pandas>=0.23.4->v3io_frames) (2.8.1)\n",
      "Requirement already satisfied: numpy>=1.13.3 in /usr/local/lib/python3.6/site-packages (from pandas>=0.23.4->v3io_frames) (1.18.1)\n",
      "Requirement already satisfied: pytz>=2017.2 in /usr/local/lib/python3.6/site-packages (from pandas>=0.23.4->v3io_frames) (2019.3)\n",
      "Requirement already satisfied: six>=1.9 in /usr/local/lib/python3.6/site-packages (from protobuf>=3.6.0->googleapis-common-protos>=1.5.3->v3io_frames) (1.14.0)\n",
      "Requirement already satisfied: setuptools in /usr/local/lib/python3.6/site-packages (from protobuf>=3.6.0->googleapis-common-protos>=1.5.3->v3io_frames) (41.2.0)\n",
      "Installing collected packages: grpcio, grpcio-tools, v3io-frames, marshmallow, netapp-ontap\n",
      "Successfully installed grpcio-1.27.2 grpcio-tools-1.27.2 marshmallow-3.5.1 netapp-ontap-9.7.0 v3io-frames-0.6.14\n",
      "WARNING: You are using pip version 19.2.3, however version 20.0.2 is available.\n",
      "You should consider upgrading via the 'pip install --upgrade pip' command.\n",
      "\u001b[36mINFO\u001b[0m[0051] Taking snapshot of full filesystem...        \n",
      "\u001b[36mINFO\u001b[0m[0055] RUN apt -y install jq curl                   \n",
      "\u001b[36mINFO\u001b[0m[0055] cmd: /bin/sh                                 \n",
      "\u001b[36mINFO\u001b[0m[0055] args: [-c apt -y install jq curl]            \n",
      "\n",
      "WARNING: apt does not have a stable CLI interface. Use with caution in scripts.\n",
      "\n",
      "Reading package lists...\n",
      "Building dependency tree...\n",
      "Reading state information...\n",
      "The following additional packages will be installed:\n",
      "  libcurl4 libcurl4-openssl-dev libjq1 libonig5\n",
      "Suggested packages:\n",
      "  libcurl4-doc libidn11-dev libldap2-dev librtmp-dev libssh2-1-dev\n",
      "The following NEW packages will be installed:\n",
      "  jq libjq1 libonig5\n",
      "The following packages will be upgraded:\n",
      "  curl libcurl4 libcurl4-openssl-dev\n",
      "3 upgraded, 3 newly installed, 0 to remove and 71 not upgraded.\n",
      "Need to get 1370 kB of archives.\n",
      "After this operation, 1072 kB of additional disk space will be used.\n",
      "Get:1 http://security.debian.org/debian-security buster/updates/main amd64 libcurl4-openssl-dev amd64 7.64.0-4+deb10u1 [419 kB]\n",
      "Get:2 http://deb.debian.org/debian buster/main amd64 libonig5 amd64 6.9.1-1 [171 kB]\n",
      "Get:3 http://deb.debian.org/debian buster/main amd64 libjq1 amd64 1.5+dfsg-2+b1 [124 kB]\n",
      "Get:4 http://deb.debian.org/debian buster/main amd64 jq amd64 1.5+dfsg-2+b1 [59.4 kB]\n",
      "Get:5 http://security.debian.org/debian-security buster/updates/main amd64 curl amd64 7.64.0-4+deb10u1 [264 kB]\n",
      "Get:6 http://security.debian.org/debian-security buster/updates/main amd64 libcurl4 amd64 7.64.0-4+deb10u1 [331 kB]\n",
      "debconf: delaying package configuration, since apt-utils is not installed\n",
      "Fetched 1370 kB in 0s (10.5 MB/s)\n",
      "(Reading database ... 24525 files and directories currently installed.)\n",
      "Preparing to unpack .../0-libcurl4-openssl-dev_7.64.0-4+deb10u1_amd64.deb ...\n",
      "Unpacking libcurl4-openssl-dev:amd64 (7.64.0-4+deb10u1) over (7.64.0-4) ...\n",
      "Preparing to unpack .../1-curl_7.64.0-4+deb10u1_amd64.deb ...\n",
      "Unpacking curl (7.64.0-4+deb10u1) over (7.64.0-4) ...\n",
      "Preparing to unpack .../2-libcurl4_7.64.0-4+deb10u1_amd64.deb ...\n",
      "Unpacking libcurl4:amd64 (7.64.0-4+deb10u1) over (7.64.0-4) ...\n",
      "Selecting previously unselected package libonig5:amd64.\n",
      "Preparing to unpack .../3-libonig5_6.9.1-1_amd64.deb ...\n",
      "Unpacking libonig5:amd64 (6.9.1-1) ...\n",
      "Selecting previously unselected package libjq1:amd64.\n",
      "Preparing to unpack .../4-libjq1_1.5+dfsg-2+b1_amd64.deb ...\n",
      "Unpacking libjq1:amd64 (1.5+dfsg-2+b1) ...\n",
      "Selecting previously unselected package jq.\n",
      "Preparing to unpack .../5-jq_1.5+dfsg-2+b1_amd64.deb ...\n",
      "Unpacking jq (1.5+dfsg-2+b1) ...\n",
      "Setting up libcurl4:amd64 (7.64.0-4+deb10u1) ...\n",
      "Setting up curl (7.64.0-4+deb10u1) ...\n",
      "Setting up libonig5:amd64 (6.9.1-1) ...\n",
      "Setting up libjq1:amd64 (1.5+dfsg-2+b1) ...\n",
      "Setting up libcurl4-openssl-dev:amd64 (7.64.0-4+deb10u1) ...\n",
      "Setting up jq (1.5+dfsg-2+b1) ...\n",
      "Processing triggers for libc-bin (2.28-10) ...\n",
      "\u001b[36mINFO\u001b[0m[0057] Taking snapshot of full filesystem...        \n"
     ]
    },
    {
     "data": {
      "text/plain": [
       "True"
      ]
     },
     "execution_count": 9,
     "metadata": {},
     "output_type": "execute_result"
    }
   ],
   "source": [
    "fn.build_config(image=docker_registry + '/netapp/pipeline:latest',commands=['apt -y update','pip install v3io_frames netapp_ontap','apt -y install jq curl'])\n",
    "fn.deploy()"
   ]
  },
  {
   "cell_type": "code",
   "execution_count": null,
   "metadata": {},
   "outputs": [],
   "source": []
  }
 ],
 "metadata": {
  "kernelspec": {
   "display_name": "Python 3",
   "language": "python",
   "name": "python3"
  },
  "language_info": {
   "codemirror_mode": {
    "name": "ipython",
    "version": 3
   },
   "file_extension": ".py",
   "mimetype": "text/x-python",
   "name": "python",
   "nbconvert_exporter": "python",
   "pygments_lexer": "ipython3",
   "version": "3.6.8"
  }
 },
 "nbformat": 4,
 "nbformat_minor": 4
}
