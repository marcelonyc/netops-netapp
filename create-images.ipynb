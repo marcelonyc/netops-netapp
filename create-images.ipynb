{
 "cells": [
  {
   "cell_type": "code",
   "execution_count": 1,
   "metadata": {},
   "outputs": [],
   "source": [
    "from mlrun import new_function\n",
    "from mlrun import mount_v3io\n",
    "import yaml\n",
    "import sys\n",
    "import json\n",
    "import os"
   ]
  },
  {
   "cell_type": "code",
   "execution_count": 2,
   "metadata": {},
   "outputs": [],
   "source": [
    "%run set_env.ipynb"
   ]
  },
  {
   "cell_type": "code",
   "execution_count": 3,
   "metadata": {},
   "outputs": [],
   "source": [
    "fn = new_function(kind='job')"
   ]
  },
  {
   "cell_type": "markdown",
   "metadata": {},
   "source": [
    "## Create image for trainign pipeline"
   ]
  },
  {
   "cell_type": "code",
   "execution_count": 4,
   "metadata": {
    "scrolled": true
   },
   "outputs": [
    {
     "name": "stdout",
     "output_type": "stream",
     "text": [
      "[mlrun] 2020-03-16 19:39:53,645 starting remote build, image: docker-registry.default-tenant.app.mdl0216.iguazio-cd1.com:80/iguazio/netapp\n",
      "\u001b[36mINFO\u001b[0m[0000] Resolved base name mlrun/mlrun:0.4.5 to mlrun/mlrun:0.4.5 \n",
      "\u001b[36mINFO\u001b[0m[0000] Resolved base name mlrun/mlrun:0.4.5 to mlrun/mlrun:0.4.5 \n",
      "\u001b[36mINFO\u001b[0m[0000] Downloading base image mlrun/mlrun:0.4.5     \n",
      "\u001b[36mINFO\u001b[0m[0000] Error while retrieving image from cache: getting file info: stat /cache/sha256:b45889c7d5afcb01bebb5e23aecb4ab759ee2f2931cfb639fe622d5118cdbac2: no such file or directory \n",
      "\u001b[36mINFO\u001b[0m[0000] Downloading base image mlrun/mlrun:0.4.5     \n",
      "\u001b[36mINFO\u001b[0m[0000] Built cross stage deps: map[]                \n",
      "\u001b[36mINFO\u001b[0m[0000] Downloading base image mlrun/mlrun:0.4.5     \n",
      "\u001b[36mINFO\u001b[0m[0000] Error while retrieving image from cache: getting file info: stat /cache/sha256:b45889c7d5afcb01bebb5e23aecb4ab759ee2f2931cfb639fe622d5118cdbac2: no such file or directory \n",
      "\u001b[36mINFO\u001b[0m[0000] Downloading base image mlrun/mlrun:0.4.5     \n",
      "\u001b[36mINFO\u001b[0m[0000] Unpacking rootfs as cmd RUN pip install v3io_frames fsspec>=0.3.3 PyYAML==5.1.2 pyarrow==0.15.1 pandas==0.25.3 matplotlib seaborn yellowbrick sklearn dask-kubernetes dask-ml[\"complete\"]==1.0.0 dask-xgboost==0.1.7 requires it. \n",
      "\u001b[36mINFO\u001b[0m[0023] Taking snapshot of full filesystem...        \n",
      "\u001b[36mINFO\u001b[0m[0040] RUN pip install v3io_frames fsspec>=0.3.3 PyYAML==5.1.2 pyarrow==0.15.1 pandas==0.25.3 matplotlib seaborn yellowbrick sklearn dask-kubernetes dask-ml[\"complete\"]==1.0.0 dask-xgboost==0.1.7 \n",
      "\u001b[36mINFO\u001b[0m[0040] cmd: /bin/sh                                 \n",
      "\u001b[36mINFO\u001b[0m[0040] args: [-c pip install v3io_frames fsspec>=0.3.3 PyYAML==5.1.2 pyarrow==0.15.1 pandas==0.25.3 matplotlib seaborn yellowbrick sklearn dask-kubernetes dask-ml[\"complete\"]==1.0.0 dask-xgboost==0.1.7] \n",
      "WARNING: You are using pip version 19.2.3, however version 20.0.2 is available.\n",
      "You should consider upgrading via the 'pip install --upgrade pip' command.\n",
      "\u001b[36mINFO\u001b[0m[0110] Taking snapshot of full filesystem...        \n",
      "\u001b[36mINFO\u001b[0m[0114] Adding whiteout for /usr/local/lib/python3.6/site-packages/PyYAML-5.3.dist-info \n"
     ]
    },
    {
     "data": {
      "text/plain": [
       "True"
      ]
     },
     "execution_count": 4,
     "metadata": {},
     "output_type": "execute_result"
    }
   ],
   "source": [
    "fn.build_config(image=docker_registry+'/iguazio/netapp', commands=['pip install \\\n",
    "v3io_frames fsspec>=0.3.3 PyYAML==5.1.2 pyarrow==0.15.1 pandas==0.25.3 matplotlib seaborn yellowbrick sklearn dask-kubernetes dask-ml[\"complete\"]==1.0.0 dask-xgboost==0.1.7'])\n",
    "fn.deploy()"
   ]
  },
  {
   "cell_type": "markdown",
   "metadata": {},
   "source": [
    "## Create image for Ontap utilitites"
   ]
  },
  {
   "cell_type": "code",
   "execution_count": 9,
   "metadata": {
    "scrolled": true
   },
   "outputs": [
    {
     "name": "stdout",
     "output_type": "stream",
     "text": [
      "[mlrun] 2020-03-13 19:39:43,007 database connection is not configured\n",
      "[mlrun] 2020-03-13 19:39:43,008 building image (docker-registry.default-tenant.app.mdl0216.iguazio-cd1.com:80/netapp/pipeline:latest)\n",
      "FROM mlrun/mlrun:0.4.5\n",
      "RUN pip install v3io_frames fsspec>=0.3.3 PyYAML==5.1.2 pyarrow==0.15.1 pandas==0.25.3 dask-kubernetes dask-ml[\"complete\"]==1.0.0 dask-xgboost==0.1.7\n",
      "RUN pip install v3io_frames netapp_ontap\n",
      "\n",
      "[mlrun] 2020-03-13 19:39:43,016 Pod mlrun-build-mlrun-501c28-72l7t created\n",
      "..\n",
      "\u001b[36mINFO\u001b[0m[0000] Resolved base name mlrun/mlrun:0.4.5 to mlrun/mlrun:0.4.5 \n",
      "\u001b[36mINFO\u001b[0m[0000] Resolved base name mlrun/mlrun:0.4.5 to mlrun/mlrun:0.4.5 \n",
      "\u001b[36mINFO\u001b[0m[0000] Downloading base image mlrun/mlrun:0.4.5     \n",
      "\u001b[36mINFO\u001b[0m[0000] Error while retrieving image from cache: getting file info: stat /cache/sha256:b45889c7d5afcb01bebb5e23aecb4ab759ee2f2931cfb639fe622d5118cdbac2: no such file or directory \n",
      "\u001b[36mINFO\u001b[0m[0000] Downloading base image mlrun/mlrun:0.4.5     \n",
      "\u001b[36mINFO\u001b[0m[0000] Built cross stage deps: map[]                \n",
      "\u001b[36mINFO\u001b[0m[0000] Downloading base image mlrun/mlrun:0.4.5     \n",
      "\u001b[36mINFO\u001b[0m[0000] Error while retrieving image from cache: getting file info: stat /cache/sha256:b45889c7d5afcb01bebb5e23aecb4ab759ee2f2931cfb639fe622d5118cdbac2: no such file or directory \n",
      "\u001b[36mINFO\u001b[0m[0000] Downloading base image mlrun/mlrun:0.4.5     \n",
      "\u001b[36mINFO\u001b[0m[0000] Unpacking rootfs as cmd RUN pip install v3io_frames fsspec>=0.3.3 PyYAML==5.1.2 pyarrow==0.15.1 pandas==0.25.3 dask-kubernetes dask-ml[\"complete\"]==1.0.0 dask-xgboost==0.1.7 requires it. \n",
      "\u001b[36mINFO\u001b[0m[0022] Taking snapshot of full filesystem...        \n",
      "\u001b[36mINFO\u001b[0m[0040] RUN pip install v3io_frames fsspec>=0.3.3 PyYAML==5.1.2 pyarrow==0.15.1 pandas==0.25.3 dask-kubernetes dask-ml[\"complete\"]==1.0.0 dask-xgboost==0.1.7 \n",
      "\u001b[36mINFO\u001b[0m[0040] cmd: /bin/sh                                 \n",
      "\u001b[36mINFO\u001b[0m[0040] args: [-c pip install v3io_frames fsspec>=0.3.3 PyYAML==5.1.2 pyarrow==0.15.1 pandas==0.25.3 dask-kubernetes dask-ml[\"complete\"]==1.0.0 dask-xgboost==0.1.7] \n",
      "WARNING: You are using pip version 19.2.3, however version 20.0.2 is available.\n",
      "You should consider upgrading via the 'pip install --upgrade pip' command.\n",
      "\u001b[36mINFO\u001b[0m[0123] Taking snapshot of full filesystem...        \n",
      "\u001b[36mINFO\u001b[0m[0125] Adding whiteout for /usr/local/lib/python3.6/site-packages/PyYAML-5.3.dist-info \n",
      "\u001b[36mINFO\u001b[0m[0196] RUN pip install v3io_frames netapp_ontap     \n",
      "\u001b[36mINFO\u001b[0m[0196] cmd: /bin/sh                                 \n",
      "\u001b[36mINFO\u001b[0m[0196] args: [-c pip install v3io_frames netapp_ontap] \n",
      "Requirement already satisfied: v3io_frames in /usr/local/lib/python3.6/site-packages (0.6.14)\n",
      "Collecting netapp_ontap\n",
      "  Downloading https://files.pythonhosted.org/packages/01/f2/fcf425a35babcdc32776fe10f47cdd41f4edc9178217ba1489bf2991e84d/netapp_ontap-9.7.0-py3-none-any.whl (882kB)\n",
      "Requirement already satisfied: googleapis-common-protos>=1.5.3 in /usr/local/lib/python3.6/site-packages (from v3io_frames) (1.51.0)\n",
      "Requirement already satisfied: requests>=2.19.1 in /usr/local/lib/python3.6/site-packages (from v3io_frames) (2.23.0)\n",
      "Requirement already satisfied: grpcio-tools>=1.26.0 in /usr/local/lib/python3.6/site-packages (from v3io_frames) (1.27.2)\n",
      "Requirement already satisfied: pandas>=0.23.4 in /usr/local/lib/python3.6/site-packages (from v3io_frames) (0.25.3)\n",
      "Collecting marshmallow>=3.2.1 (from netapp_ontap)\n",
      "  Downloading https://files.pythonhosted.org/packages/d8/0b/bb43d7610e71d87e8537025841c248471dbf938c676d32b8f94c82148c04/marshmallow-3.5.1-py2.py3-none-any.whl (45kB)\n",
      "Requirement already satisfied: protobuf>=3.6.0 in /usr/local/lib/python3.6/site-packages (from googleapis-common-protos>=1.5.3->v3io_frames) (3.11.3)\n",
      "Requirement already satisfied: idna<3,>=2.5 in /usr/local/lib/python3.6/site-packages (from requests>=2.19.1->v3io_frames) (2.9)\n",
      "Requirement already satisfied: certifi>=2017.4.17 in /usr/local/lib/python3.6/site-packages (from requests>=2.19.1->v3io_frames) (2019.11.28)\n",
      "Requirement already satisfied: urllib3!=1.25.0,!=1.25.1,<1.26,>=1.21.1 in /usr/local/lib/python3.6/site-packages (from requests>=2.19.1->v3io_frames) (1.24.3)\n",
      "Requirement already satisfied: chardet<4,>=3.0.2 in /usr/local/lib/python3.6/site-packages (from requests>=2.19.1->v3io_frames) (3.0.4)\n",
      "Requirement already satisfied: grpcio>=1.27.2 in /usr/local/lib/python3.6/site-packages (from grpcio-tools>=1.26.0->v3io_frames) (1.27.2)\n",
      "Requirement already satisfied: pytz>=2017.2 in /usr/local/lib/python3.6/site-packages (from pandas>=0.23.4->v3io_frames) (2019.3)\n",
      "Requirement already satisfied: numpy>=1.13.3 in /usr/local/lib/python3.6/site-packages (from pandas>=0.23.4->v3io_frames) (1.18.1)\n",
      "Requirement already satisfied: python-dateutil>=2.6.1 in /usr/local/lib/python3.6/site-packages (from pandas>=0.23.4->v3io_frames) (2.8.1)\n",
      "Requirement already satisfied: setuptools in /usr/local/lib/python3.6/site-packages (from protobuf>=3.6.0->googleapis-common-protos>=1.5.3->v3io_frames) (41.2.0)\n",
      "Requirement already satisfied: six>=1.9 in /usr/local/lib/python3.6/site-packages (from protobuf>=3.6.0->googleapis-common-protos>=1.5.3->v3io_frames) (1.14.0)\n",
      "Installing collected packages: marshmallow, netapp-ontap\n",
      "Successfully installed marshmallow-3.5.1 netapp-ontap-9.7.0\n",
      "WARNING: You are using pip version 19.2.3, however version 20.0.2 is available.\n",
      "You should consider upgrading via the 'pip install --upgrade pip' command.\n",
      "\u001b[36mINFO\u001b[0m[0198] Taking snapshot of full filesystem...        \n",
      "[mlrun] 2020-03-13 19:44:38,821 pod still running, waiting 2 sec\n",
      "[mlrun] 2020-03-13 19:44:40,829 build completed with succeeded\n",
      "[mlrun] 2020-03-13 19:44:40,830 database connection is not configured\n"
     ]
    },
    {
     "data": {
      "text/plain": [
       "True"
      ]
     },
     "execution_count": 9,
     "metadata": {},
     "output_type": "execute_result"
    }
   ],
   "source": [
    "fn.build_config(image=docker_registry + '/netapp/pipeline:latest',commands=['pip install v3io_frames netapp_ontap'])\n",
    "fn.deploy()"
   ]
  },
  {
   "cell_type": "code",
   "execution_count": null,
   "metadata": {},
   "outputs": [],
   "source": []
  }
 ],
 "metadata": {
  "kernelspec": {
   "display_name": "Python 3",
   "language": "python",
   "name": "python3"
  },
  "language_info": {
   "codemirror_mode": {
    "name": "ipython",
    "version": 3
   },
   "file_extension": ".py",
   "mimetype": "text/x-python",
   "name": "python",
   "nbconvert_exporter": "python",
   "pygments_lexer": "ipython3",
   "version": "3.6.8"
  }
 },
 "nbformat": 4,
 "nbformat_minor": 4
}
