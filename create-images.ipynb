{
 "cells": [
  {
   "cell_type": "code",
   "execution_count": 1,
   "metadata": {},
   "outputs": [],
   "source": [
    "from mlrun import new_function\n",
    "from mlrun import mount_v3io\n",
    "import yaml\n",
    "import sys\n",
    "import json\n",
    "import os"
   ]
  },
  {
   "cell_type": "code",
   "execution_count": 2,
   "metadata": {},
   "outputs": [],
   "source": [
    "%run set_env.ipynb"
   ]
  },
  {
   "cell_type": "code",
   "execution_count": 14,
   "metadata": {},
   "outputs": [],
   "source": [
    "fn = new_function(kind='job')"
   ]
  },
  {
   "cell_type": "markdown",
   "metadata": {},
   "source": [
    "## Create image for trainign pipeline"
   ]
  },
  {
   "cell_type": "code",
   "execution_count": 15,
   "metadata": {
    "scrolled": true
   },
   "outputs": [
    {
     "name": "stdout",
     "output_type": "stream",
     "text": [
      "[mlrun] 2020-03-15 16:30:16,089 starting remote build, image: docker-registry.default-tenant.app.mdl0216.iguazio-cd1.com:80/iguazio/netapp\n",
      "\u001b[36mINFO\u001b[0m[0000] Resolved base name mlrun/mlrun:0.4.5 to mlrun/mlrun:0.4.5 \n",
      "\u001b[36mINFO\u001b[0m[0000] Resolved base name mlrun/mlrun:0.4.5 to mlrun/mlrun:0.4.5 \n",
      "\u001b[36mINFO\u001b[0m[0000] Downloading base image mlrun/mlrun:0.4.5     \n",
      "\u001b[36mINFO\u001b[0m[0000] Error while retrieving image from cache: getting file info: stat /cache/sha256:b45889c7d5afcb01bebb5e23aecb4ab759ee2f2931cfb639fe622d5118cdbac2: no such file or directory \n",
      "\u001b[36mINFO\u001b[0m[0000] Downloading base image mlrun/mlrun:0.4.5     \n",
      "\u001b[36mINFO\u001b[0m[0000] Built cross stage deps: map[]                \n",
      "\u001b[36mINFO\u001b[0m[0000] Downloading base image mlrun/mlrun:0.4.5     \n",
      "\u001b[36mINFO\u001b[0m[0000] Error while retrieving image from cache: getting file info: stat /cache/sha256:b45889c7d5afcb01bebb5e23aecb4ab759ee2f2931cfb639fe622d5118cdbac2: no such file or directory \n",
      "\u001b[36mINFO\u001b[0m[0000] Downloading base image mlrun/mlrun:0.4.5     \n",
      "\u001b[36mINFO\u001b[0m[0000] Unpacking rootfs as cmd RUN pip install v3io_frames fsspec>=0.3.3 PyYAML==5.1.2 pyarrow==0.15.1 pandas==0.25.3 matplotlib seaborn yellowbrick sklearn requires it. \n",
      "\u001b[36mINFO\u001b[0m[0020] Taking snapshot of full filesystem...        \n",
      "\u001b[36mINFO\u001b[0m[0037] RUN pip install v3io_frames fsspec>=0.3.3 PyYAML==5.1.2 pyarrow==0.15.1 pandas==0.25.3 matplotlib seaborn yellowbrick sklearn \n",
      "\u001b[36mINFO\u001b[0m[0037] cmd: /bin/sh                                 \n",
      "\u001b[36mINFO\u001b[0m[0037] args: [-c pip install v3io_frames fsspec>=0.3.3 PyYAML==5.1.2 pyarrow==0.15.1 pandas==0.25.3 matplotlib seaborn yellowbrick sklearn] \n",
      "WARNING: You are using pip version 19.2.3, however version 20.0.2 is available.\n",
      "You should consider upgrading via the 'pip install --upgrade pip' command.\n",
      "\u001b[36mINFO\u001b[0m[0060] Taking snapshot of full filesystem...        \n",
      "\u001b[36mINFO\u001b[0m[0061] Adding whiteout for /usr/local/lib/python3.6/site-packages/PyYAML-5.3.dist-info \n",
      "\u001b[36mINFO\u001b[0m[0075] RUN pip install dask-kubernetes dask-ml[\"complete\"]==1.0.0 dask-xgboost==0.1.7 \n",
      "\u001b[36mINFO\u001b[0m[0075] cmd: /bin/sh                                 \n",
      "\u001b[36mINFO\u001b[0m[0075] args: [-c pip install dask-kubernetes dask-ml[\"complete\"]==1.0.0 dask-xgboost==0.1.7] \n",
      "Collecting dask-kubernetes\n",
      "  Downloading https://files.pythonhosted.org/packages/b5/2b/187dd293b481addab2863c555dfcb4ede177823217cefb15dc3a88d57886/dask_kubernetes-0.10.1-py3-none-any.whl\n",
      "Collecting dask-ml[complete]==1.0.0\n",
      "  Downloading https://files.pythonhosted.org/packages/17/da/10080b7826d478567c151fbd66a3a6aaa41a541968d9a46680e94cfea5f5/dask_ml-1.0.0-py3-none-any.whl (118kB)\n",
      "Collecting dask-xgboost==0.1.7\n",
      "  Downloading https://files.pythonhosted.org/packages/9f/0a/717a74df509093abffca80bdae0b1f23c8728172598ea406d54a2667aaea/dask_xgboost-0.1.7-py2.py3-none-any.whl\n",
      "Collecting dask>=2.5.2 (from dask-kubernetes)\n",
      "  Downloading https://files.pythonhosted.org/packages/6b/e6/992890ad9ee4d6059c6de2b497d483771c507e023492ba624be944016082/dask-2.12.0-py3-none-any.whl (789kB)\n",
      "Collecting kubernetes-asyncio>=9 (from dask-kubernetes)\n",
      "  Downloading https://files.pythonhosted.org/packages/b3/c4/1aa9a944fca5d793b2976ad958f796de56c4502556c701b8315282b3d24c/kubernetes_asyncio-11.0.0.tar.gz (746kB)\n",
      "Collecting distributed>=2.5.2 (from dask-kubernetes)\n",
      "  Downloading https://files.pythonhosted.org/packages/25/84/82ee3e667ed8a81917d876dfd205af0df796535c7270ff0c2e21a39c77e7/distributed-2.12.0-py3-none-any.whl (601kB)\n",
      "Requirement already satisfied: kubernetes>=9 in /usr/local/lib/python3.6/site-packages (from dask-kubernetes) (10.0.0)\n",
      "Requirement already satisfied: scipy in /usr/local/lib/python3.6/site-packages (from dask-ml[complete]==1.0.0) (1.4.1)\n",
      "Collecting numba (from dask-ml[complete]==1.0.0)\n",
      "  Downloading https://files.pythonhosted.org/packages/ba/49/61522f34b1333aa4e9aa02005dc0774d25bd234400dff718b16615d6a744/numba-0.48.0-cp36-cp36m-manylinux1_x86_64.whl (2.5MB)\n",
      "Collecting dask-glm (from dask-ml[complete]==1.0.0)\n",
      "  Downloading https://files.pythonhosted.org/packages/cb/ee/36c6e0e7b51e08406e5c3bb036f35adb77bd0a89335437b2e6f03c948f1a/dask_glm-0.2.0-py2.py3-none-any.whl\n",
      "Requirement already satisfied: pandas>=0.23.4 in /usr/local/lib/python3.6/site-packages (from dask-ml[complete]==1.0.0) (0.25.3)\n",
      "Requirement already satisfied: scikit-learn>=0.20 in /usr/local/lib/python3.6/site-packages (from dask-ml[complete]==1.0.0) (0.22.2.post1)\n",
      "Requirement already satisfied: numpy in /usr/local/lib/python3.6/site-packages (from dask-ml[complete]==1.0.0) (1.18.1)\n",
      "Collecting multipledispatch>=0.4.9 (from dask-ml[complete]==1.0.0)\n",
      "  Downloading https://files.pythonhosted.org/packages/89/79/429ecef45fd5e4504f7474d4c3c3c4668c267be3370e4c2fd33e61506833/multipledispatch-0.6.0-py3-none-any.whl\n",
      "Collecting packaging (from dask-ml[complete]==1.0.0)\n",
      "  Downloading https://files.pythonhosted.org/packages/62/0a/34641d2bf5c917c96db0ded85ae4da25b6cd922d6b794648d4e7e07c88e5/packaging-20.3-py2.py3-none-any.whl\n",
      "Collecting xgboost; extra == \"complete\" (from dask-ml[complete]==1.0.0)\n",
      "  Downloading https://files.pythonhosted.org/packages/70/91/551d37ba472bcbd70a25e667acc65a18a9d053657b13afcf0f87aa24d7bb/xgboost-1.0.2-py3-none-manylinux1_x86_64.whl (109.7MB)\n",
      "Collecting dask-tensorflow; extra == \"complete\" (from dask-ml[complete]==1.0.0)\n",
      "  Downloading https://files.pythonhosted.org/packages/00/a5/6cd58713aacf16fc8ef801e3020894a1faba7710c19c047c3e9582081b20/dask_tensorflow-0.0.2-py2.py3-none-any.whl\n",
      "Collecting tensorflow; extra == \"complete\" (from dask-ml[complete]==1.0.0)\n",
      "  Downloading https://files.pythonhosted.org/packages/85/d4/c0cd1057b331bc38b65478302114194bd8e1b9c2bbc06e300935c0e93d90/tensorflow-2.1.0-cp36-cp36m-manylinux2010_x86_64.whl (421.8MB)\n",
      "Requirement already satisfied: certifi>=14.05.14 in /usr/local/lib/python3.6/site-packages (from kubernetes-asyncio>=9->dask-kubernetes) (2019.11.28)\n",
      "Requirement already satisfied: six>=1.9.0 in /usr/local/lib/python3.6/site-packages (from kubernetes-asyncio>=9->dask-kubernetes) (1.14.0)\n",
      "Requirement already satisfied: python-dateutil>=2.5.3 in /usr/local/lib/python3.6/site-packages (from kubernetes-asyncio>=9->dask-kubernetes) (2.8.1)\n",
      "Requirement already satisfied: setuptools>=21.0.0 in /usr/local/lib/python3.6/site-packages (from kubernetes-asyncio>=9->dask-kubernetes) (41.2.0)\n",
      "Requirement already satisfied: urllib3>=1.24.2 in /usr/local/lib/python3.6/site-packages (from kubernetes-asyncio>=9->dask-kubernetes) (1.24.3)\n",
      "Requirement already satisfied: pyyaml>=3.12 in /usr/local/lib/python3.6/site-packages (from kubernetes-asyncio>=9->dask-kubernetes) (5.1.2)\n",
      "Requirement already satisfied: aiohttp<4.0.0,>=2.3.10 in /usr/local/lib/python3.6/site-packages (from kubernetes-asyncio>=9->dask-kubernetes) (3.6.2)\n",
      "Collecting sortedcontainers!=2.0.0,!=2.0.1 (from distributed>=2.5.2->dask-kubernetes)\n",
      "  Downloading https://files.pythonhosted.org/packages/13/f3/cf85f7c3a2dbd1a515d51e1f1676d971abe41bba6f4ab5443240d9a78e5b/sortedcontainers-2.1.0-py2.py3-none-any.whl\n",
      "Collecting psutil>=5.0 (from distributed>=2.5.2->dask-kubernetes)\n",
      "  Downloading https://files.pythonhosted.org/packages/c4/b8/3512f0e93e0db23a71d82485ba256071ebef99b227351f0f5540f744af41/psutil-5.7.0.tar.gz (449kB)\n",
      "Collecting tblib>=1.6.0 (from distributed>=2.5.2->dask-kubernetes)\n",
      "  Downloading https://files.pythonhosted.org/packages/0d/de/dca3e651ca62e59c08d324f4a51467fa4b8cbeaafb883b5e83720b4d4a47/tblib-1.6.0-py2.py3-none-any.whl\n",
      "Collecting zict>=0.1.3 (from distributed>=2.5.2->dask-kubernetes)\n",
      "  Downloading https://files.pythonhosted.org/packages/5a/65/0f743c740c30cace984ef8ff96fd1e991083fa884900a8aad3efff3252b9/zict-2.0.0-py3-none-any.whl\n",
      "Requirement already satisfied: click>=6.6 in /usr/local/lib/python3.6/site-packages (from distributed>=2.5.2->dask-kubernetes) (7.0)\n",
      "Collecting toolz>=0.7.4 (from distributed>=2.5.2->dask-kubernetes)\n",
      "  Downloading https://files.pythonhosted.org/packages/22/8e/037b9ba5c6a5739ef0dcde60578c64d49f45f64c5e5e886531bfbc39157f/toolz-0.10.0.tar.gz (49kB)\n",
      "Requirement already satisfied: cloudpickle>=0.2.2 in /usr/local/lib/python3.6/site-packages (from distributed>=2.5.2->dask-kubernetes) (1.1.1)\n",
      "Collecting msgpack>=0.6.0 (from distributed>=2.5.2->dask-kubernetes)\n",
      "  Downloading https://files.pythonhosted.org/packages/c9/35/33aa1af0700d21beabdf74373f31c52c048be8ee082f98edbc37ba3ae956/msgpack-1.0.0-cp36-cp36m-manylinux1_x86_64.whl (274kB)\n",
      "Requirement already satisfied: tornado>=5; python_version < \"3.8\" in /usr/local/lib/python3.6/site-packages (from distributed>=2.5.2->dask-kubernetes) (6.0.3)\n",
      "Requirement already satisfied: requests in /usr/local/lib/python3.6/site-packages (from kubernetes>=9->dask-kubernetes) (2.23.0)\n",
      "Requirement already satisfied: google-auth>=1.0.1 in /usr/local/lib/python3.6/site-packages (from kubernetes>=9->dask-kubernetes) (1.11.2)\n",
      "Requirement already satisfied: websocket-client!=0.40.0,!=0.41.*,!=0.42.*,>=0.32.0 in /usr/local/lib/python3.6/site-packages (from kubernetes>=9->dask-kubernetes) (0.57.0)\n",
      "Requirement already satisfied: requests-oauthlib in /usr/local/lib/python3.6/site-packages (from kubernetes>=9->dask-kubernetes) (1.3.0)\n",
      "Collecting llvmlite<0.32.0,>=0.31.0dev0 (from numba->dask-ml[complete]==1.0.0)\n",
      "  Downloading https://files.pythonhosted.org/packages/ad/bb/60d4033d56c9da36490af19caa6c794b72b8aef6f792fdfa8cb95d11e419/llvmlite-0.31.0-cp36-cp36m-manylinux1_x86_64.whl (20.2MB)\n",
      "Requirement already satisfied: pytz>=2017.2 in /usr/local/lib/python3.6/site-packages (from pandas>=0.23.4->dask-ml[complete]==1.0.0) (2019.3)\n",
      "Requirement already satisfied: joblib>=0.11 in /usr/local/lib/python3.6/site-packages (from scikit-learn>=0.20->dask-ml[complete]==1.0.0) (0.14.1)\n",
      "Requirement already satisfied: pyparsing>=2.0.2 in /usr/local/lib/python3.6/site-packages (from packaging->dask-ml[complete]==1.0.0) (2.4.6)\n",
      "Collecting google-pasta>=0.1.6 (from tensorflow; extra == \"complete\"->dask-ml[complete]==1.0.0)\n",
      "  Downloading https://files.pythonhosted.org/packages/a3/de/c648ef6835192e6e2cc03f40b19eeda4382c49b5bafb43d88b931c4c74ac/google_pasta-0.2.0-py3-none-any.whl (57kB)\n",
      "Collecting absl-py>=0.7.0 (from tensorflow; extra == \"complete\"->dask-ml[complete]==1.0.0)\n",
      "  Downloading https://files.pythonhosted.org/packages/1a/53/9243c600e047bd4c3df9e69cfabc1e8004a82cac2e0c484580a78a94ba2a/absl-py-0.9.0.tar.gz (104kB)\n",
      "Requirement already satisfied: wrapt>=1.11.1 in /usr/local/lib/python3.6/site-packages (from tensorflow; extra == \"complete\"->dask-ml[complete]==1.0.0) (1.12.0)\n",
      "Requirement already satisfied: protobuf>=3.8.0 in /usr/local/lib/python3.6/site-packages (from tensorflow; extra == \"complete\"->dask-ml[complete]==1.0.0) (3.11.3)\n",
      "Collecting tensorflow-estimator<2.2.0,>=2.1.0rc0 (from tensorflow; extra == \"complete\"->dask-ml[complete]==1.0.0)\n",
      "  Downloading https://files.pythonhosted.org/packages/18/90/b77c328a1304437ab1310b463e533fa7689f4bfc41549593056d812fab8e/tensorflow_estimator-2.1.0-py2.py3-none-any.whl (448kB)\n",
      "Collecting gast==0.2.2 (from tensorflow; extra == \"complete\"->dask-ml[complete]==1.0.0)\n",
      "  Downloading https://files.pythonhosted.org/packages/4e/35/11749bf99b2d4e3cceb4d55ca22590b0d7c2c62b9de38ac4a4a7f4687421/gast-0.2.2.tar.gz\n",
      "Collecting tensorboard<2.2.0,>=2.1.0 (from tensorflow; extra == \"complete\"->dask-ml[complete]==1.0.0)\n",
      "  Downloading https://files.pythonhosted.org/packages/d9/41/bbf49b61370e4f4d245d4c6051dfb6db80cec672605c91b1652ac8cc3d38/tensorboard-2.1.1-py3-none-any.whl (3.8MB)\n",
      "Requirement already satisfied: wheel>=0.26; python_version >= \"3\" in /usr/local/lib/python3.6/site-packages (from tensorflow; extra == \"complete\"->dask-ml[complete]==1.0.0) (0.33.6)\n",
      "Collecting opt-einsum>=2.3.2 (from tensorflow; extra == \"complete\"->dask-ml[complete]==1.0.0)\n",
      "  Downloading https://files.pythonhosted.org/packages/b2/49/2233e63052d5686c72131b579837ddfb98ba9dd0b92bb91efcb441ada8ce/opt_einsum-3.2.0-py3-none-any.whl (63kB)\n",
      "Collecting termcolor>=1.1.0 (from tensorflow; extra == \"complete\"->dask-ml[complete]==1.0.0)\n",
      "  Downloading https://files.pythonhosted.org/packages/8a/48/a76be51647d0eb9f10e2a4511bf3ffb8cc1e6b14e9e4fab46173aa79f981/termcolor-1.1.0.tar.gz\n",
      "Collecting astor>=0.6.0 (from tensorflow; extra == \"complete\"->dask-ml[complete]==1.0.0)\n",
      "  Downloading https://files.pythonhosted.org/packages/c3/88/97eef84f48fa04fbd6750e62dcceafba6c63c81b7ac1420856c8dcc0a3f9/astor-0.8.1-py2.py3-none-any.whl\n",
      "Requirement already satisfied: grpcio>=1.8.6 in /usr/local/lib/python3.6/site-packages (from tensorflow; extra == \"complete\"->dask-ml[complete]==1.0.0) (1.27.2)\n",
      "Collecting keras-applications>=1.0.8 (from tensorflow; extra == \"complete\"->dask-ml[complete]==1.0.0)\n",
      "  Downloading https://files.pythonhosted.org/packages/71/e3/19762fdfc62877ae9102edf6342d71b28fbfd9dea3d2f96a882ce099b03f/Keras_Applications-1.0.8-py3-none-any.whl (50kB)\n",
      "Collecting keras-preprocessing>=1.1.0 (from tensorflow; extra == \"complete\"->dask-ml[complete]==1.0.0)\n",
      "  Downloading https://files.pythonhosted.org/packages/28/6a/8c1f62c37212d9fc441a7e26736df51ce6f0e38455816445471f10da4f0a/Keras_Preprocessing-1.1.0-py2.py3-none-any.whl (41kB)\n",
      "Requirement already satisfied: async-timeout<4.0,>=3.0 in /usr/local/lib/python3.6/site-packages (from aiohttp<4.0.0,>=2.3.10->kubernetes-asyncio>=9->dask-kubernetes) (3.0.1)\n",
      "Requirement already satisfied: attrs>=17.3.0 in /usr/local/lib/python3.6/site-packages (from aiohttp<4.0.0,>=2.3.10->kubernetes-asyncio>=9->dask-kubernetes) (19.3.0)\n",
      "Requirement already satisfied: chardet<4.0,>=2.0 in /usr/local/lib/python3.6/site-packages (from aiohttp<4.0.0,>=2.3.10->kubernetes-asyncio>=9->dask-kubernetes) (3.0.4)\n",
      "Requirement already satisfied: yarl<2.0,>=1.0 in /usr/local/lib/python3.6/site-packages (from aiohttp<4.0.0,>=2.3.10->kubernetes-asyncio>=9->dask-kubernetes) (1.4.2)\n",
      "Requirement already satisfied: typing-extensions>=3.6.5; python_version < \"3.7\" in /usr/local/lib/python3.6/site-packages (from aiohttp<4.0.0,>=2.3.10->kubernetes-asyncio>=9->dask-kubernetes) (3.7.4.1)\n",
      "Requirement already satisfied: multidict<5.0,>=4.5 in /usr/local/lib/python3.6/site-packages (from aiohttp<4.0.0,>=2.3.10->kubernetes-asyncio>=9->dask-kubernetes) (4.7.4)\n",
      "Requirement already satisfied: idna-ssl>=1.0; python_version < \"3.7\" in /usr/local/lib/python3.6/site-packages (from aiohttp<4.0.0,>=2.3.10->kubernetes-asyncio>=9->dask-kubernetes) (1.1.0)\n",
      "Collecting heapdict (from zict>=0.1.3->distributed>=2.5.2->dask-kubernetes)\n",
      "  Downloading https://files.pythonhosted.org/packages/b6/9d/cd4777dbcf3bef9d9627e0fe4bc43d2e294b1baeb01d0422399d5e9de319/HeapDict-1.0.1-py3-none-any.whl\n",
      "Requirement already satisfied: idna<3,>=2.5 in /usr/local/lib/python3.6/site-packages (from requests->kubernetes>=9->dask-kubernetes) (2.9)\n",
      "Requirement already satisfied: rsa<4.1,>=3.1.4 in /usr/local/lib/python3.6/site-packages (from google-auth>=1.0.1->kubernetes>=9->dask-kubernetes) (4.0)\n",
      "Requirement already satisfied: cachetools<5.0,>=2.0.0 in /usr/local/lib/python3.6/site-packages (from google-auth>=1.0.1->kubernetes>=9->dask-kubernetes) (4.0.0)\n",
      "Requirement already satisfied: pyasn1-modules>=0.2.1 in /usr/local/lib/python3.6/site-packages (from google-auth>=1.0.1->kubernetes>=9->dask-kubernetes) (0.2.8)\n",
      "Requirement already satisfied: oauthlib>=3.0.0 in /usr/local/lib/python3.6/site-packages (from requests-oauthlib->kubernetes>=9->dask-kubernetes) (3.1.0)\n",
      "Collecting markdown>=2.6.8 (from tensorboard<2.2.0,>=2.1.0->tensorflow; extra == \"complete\"->dask-ml[complete]==1.0.0)\n",
      "  Downloading https://files.pythonhosted.org/packages/ab/c4/ba46d44855e6eb1770a12edace5a165a0c6de13349f592b9036257f3c3d3/Markdown-3.2.1-py2.py3-none-any.whl (88kB)\n",
      "Collecting google-auth-oauthlib<0.5,>=0.4.1 (from tensorboard<2.2.0,>=2.1.0->tensorflow; extra == \"complete\"->dask-ml[complete]==1.0.0)\n",
      "  Downloading https://files.pythonhosted.org/packages/7b/b8/88def36e74bee9fce511c9519571f4e485e890093ab7442284f4ffaef60b/google_auth_oauthlib-0.4.1-py2.py3-none-any.whl\n",
      "Requirement already satisfied: werkzeug>=0.11.15 in /usr/local/lib/python3.6/site-packages (from tensorboard<2.2.0,>=2.1.0->tensorflow; extra == \"complete\"->dask-ml[complete]==1.0.0) (1.0.0)\n",
      "Collecting h5py (from keras-applications>=1.0.8->tensorflow; extra == \"complete\"->dask-ml[complete]==1.0.0)\n",
      "  Downloading https://files.pythonhosted.org/packages/60/06/cafdd44889200e5438b897388f3075b52a8ef01f28a17366d91de0fa2d05/h5py-2.10.0-cp36-cp36m-manylinux1_x86_64.whl (2.9MB)\n",
      "Requirement already satisfied: pyasn1>=0.1.3 in /usr/local/lib/python3.6/site-packages (from rsa<4.1,>=3.1.4->google-auth>=1.0.1->kubernetes>=9->dask-kubernetes) (0.4.8)\n",
      "Building wheels for collected packages: kubernetes-asyncio, psutil, toolz, absl-py, gast, termcolor\n",
      "  Building wheel for kubernetes-asyncio (setup.py): started\n",
      "  Building wheel for kubernetes-asyncio (setup.py): finished with status 'done'\n",
      "  Created wheel for kubernetes-asyncio: filename=kubernetes_asyncio-11.0.0-cp36-none-any.whl size=1619220 sha256=bf05250137edc063301955cc474d795b976695d61a17f1e8ffa84fb0509f3049\n",
      "  Stored in directory: /root/.cache/pip/wheels/97/32/92/beb62c5f319543cd57bd29cb646d13f9ce8094ea5d6cf114c4\n",
      "  Building wheel for psutil (setup.py): started\n",
      "  Building wheel for psutil (setup.py): finished with status 'done'\n",
      "  Created wheel for psutil: filename=psutil-5.7.0-cp36-cp36m-linux_x86_64.whl size=278279 sha256=79b6ef0f3fec87d676740ff324b936332e219ce66cb7acc5a1c5dc1fb0729c2b\n",
      "  Stored in directory: /root/.cache/pip/wheels/d7/69/b4/3200b95828d1f0ddb3cb5699083717f4fdbd9b4223d0644c57\n",
      "  Building wheel for toolz (setup.py): started\n",
      "  Building wheel for toolz (setup.py): finished with status 'done'\n",
      "  Created wheel for toolz: filename=toolz-0.10.0-cp36-none-any.whl size=55576 sha256=8482ebf4d0fe6b0bb65f90a175754e28d655394dfe38e103d1f11dc2e35ccc9e\n",
      "  Stored in directory: /root/.cache/pip/wheels/e1/8b/65/3294e5b727440250bda09e8c0153b7ba19d328f661605cb151\n",
      "  Building wheel for absl-py (setup.py): started\n",
      "  Building wheel for absl-py (setup.py): finished with status 'done'\n",
      "  Created wheel for absl-py: filename=absl_py-0.9.0-cp36-none-any.whl size=121931 sha256=f4c76cf46c1af1e01f3a6f2954d3c0bf1ab67394b0b348f6c080284c21a2f857\n",
      "  Stored in directory: /root/.cache/pip/wheels/8e/28/49/fad4e7f0b9a1227708cbbee4487ac8558a7334849cb81c813d\n",
      "  Building wheel for gast (setup.py): started\n",
      "  Building wheel for gast (setup.py): finished with status 'done'\n",
      "  Created wheel for gast: filename=gast-0.2.2-cp36-none-any.whl size=7540 sha256=c25b43fefc74c203cdb8d67e99f542450373aa59cd19662f93d212b906cd1ac1\n",
      "  Stored in directory: /root/.cache/pip/wheels/5c/2e/7e/a1d4d4fcebe6c381f378ce7743a3ced3699feb89bcfbdadadd\n",
      "  Building wheel for termcolor (setup.py): started\n",
      "  Building wheel for termcolor (setup.py): finished with status 'done'\n",
      "  Created wheel for termcolor: filename=termcolor-1.1.0-cp36-none-any.whl size=4832 sha256=4fb4bb12ffeafdeeba95228260d670749edca531341aa23b0c989aa73fdabacd\n",
      "  Stored in directory: /root/.cache/pip/wheels/7c/06/54/bc84598ba1daf8f970247f550b175aaaee85f68b4b0c5ab2c6\n",
      "Successfully built kubernetes-asyncio psutil toolz absl-py gast termcolor\n",
      "Installing collected packages: dask, kubernetes-asyncio, sortedcontainers, psutil, tblib, heapdict, zict, toolz, msgpack, distributed, dask-kubernetes, llvmlite, numba, multipledispatch, dask-glm, packaging, xgboost, google-pasta, absl-py, tensorflow-estimator, gast, markdown, google-auth-oauthlib, tensorboard, opt-einsum, termcolor, astor, h5py, keras-applications, keras-preprocessing, tensorflow, dask-tensorflow, dask-xgboost, dask-ml\n",
      "Successfully installed absl-py-0.9.0 astor-0.8.1 dask-2.12.0 dask-glm-0.2.0 dask-kubernetes-0.10.1 dask-ml-1.0.0 dask-tensorflow-0.0.2 dask-xgboost-0.1.7 distributed-2.12.0 gast-0.2.2 google-auth-oauthlib-0.4.1 google-pasta-0.2.0 h5py-2.10.0 heapdict-1.0.1 keras-applications-1.0.8 keras-preprocessing-1.1.0 kubernetes-asyncio-11.0.0 llvmlite-0.31.0 markdown-3.2.1 msgpack-1.0.0 multipledispatch-0.6.0 numba-0.48.0 opt-einsum-3.2.0 packaging-20.3 psutil-5.7.0 sortedcontainers-2.1.0 tblib-1.6.0 tensorboard-2.1.1 tensorflow-2.1.0 tensorflow-estimator-2.1.0 termcolor-1.1.0 toolz-0.10.0 xgboost-1.0.2 zict-2.0.0\n",
      "WARNING: You are using pip version 19.2.3, however version 20.0.2 is available.\n",
      "You should consider upgrading via the 'pip install --upgrade pip' command.\n",
      "\u001b[36mINFO\u001b[0m[0116] Taking snapshot of full filesystem...        \n"
     ]
    },
    {
     "data": {
      "text/plain": [
       "True"
      ]
     },
     "execution_count": 15,
     "metadata": {},
     "output_type": "execute_result"
    }
   ],
   "source": [
    "fn.build_config(image=docker_registry+'/iguazio/netapp', commands=['pip install \\\n",
    "v3io_frames fsspec>=0.3.3 PyYAML==5.1.2 pyarrow==0.15.1 pandas==0.25.3 matplotlib seaborn yellowbrick sklearn','pip install dask-kubernetes dask-ml[\"complete\"]==1.0.0 dask-xgboost==0.1.7'])\n",
    "fn.deploy()"
   ]
  },
  {
   "cell_type": "markdown",
   "metadata": {},
   "source": [
    "## Create image for Ontap utilitites"
   ]
  },
  {
   "cell_type": "code",
   "execution_count": 9,
   "metadata": {
    "scrolled": true
   },
   "outputs": [
    {
     "name": "stdout",
     "output_type": "stream",
     "text": [
      "[mlrun] 2020-03-13 19:39:43,007 database connection is not configured\n",
      "[mlrun] 2020-03-13 19:39:43,008 building image (docker-registry.default-tenant.app.mdl0216.iguazio-cd1.com:80/netapp/pipeline:latest)\n",
      "FROM mlrun/mlrun:0.4.5\n",
      "RUN pip install v3io_frames fsspec>=0.3.3 PyYAML==5.1.2 pyarrow==0.15.1 pandas==0.25.3 dask-kubernetes dask-ml[\"complete\"]==1.0.0 dask-xgboost==0.1.7\n",
      "RUN pip install v3io_frames netapp_ontap\n",
      "\n",
      "[mlrun] 2020-03-13 19:39:43,016 Pod mlrun-build-mlrun-501c28-72l7t created\n",
      "..\n",
      "\u001b[36mINFO\u001b[0m[0000] Resolved base name mlrun/mlrun:0.4.5 to mlrun/mlrun:0.4.5 \n",
      "\u001b[36mINFO\u001b[0m[0000] Resolved base name mlrun/mlrun:0.4.5 to mlrun/mlrun:0.4.5 \n",
      "\u001b[36mINFO\u001b[0m[0000] Downloading base image mlrun/mlrun:0.4.5     \n",
      "\u001b[36mINFO\u001b[0m[0000] Error while retrieving image from cache: getting file info: stat /cache/sha256:b45889c7d5afcb01bebb5e23aecb4ab759ee2f2931cfb639fe622d5118cdbac2: no such file or directory \n",
      "\u001b[36mINFO\u001b[0m[0000] Downloading base image mlrun/mlrun:0.4.5     \n",
      "\u001b[36mINFO\u001b[0m[0000] Built cross stage deps: map[]                \n",
      "\u001b[36mINFO\u001b[0m[0000] Downloading base image mlrun/mlrun:0.4.5     \n",
      "\u001b[36mINFO\u001b[0m[0000] Error while retrieving image from cache: getting file info: stat /cache/sha256:b45889c7d5afcb01bebb5e23aecb4ab759ee2f2931cfb639fe622d5118cdbac2: no such file or directory \n",
      "\u001b[36mINFO\u001b[0m[0000] Downloading base image mlrun/mlrun:0.4.5     \n",
      "\u001b[36mINFO\u001b[0m[0000] Unpacking rootfs as cmd RUN pip install v3io_frames fsspec>=0.3.3 PyYAML==5.1.2 pyarrow==0.15.1 pandas==0.25.3 dask-kubernetes dask-ml[\"complete\"]==1.0.0 dask-xgboost==0.1.7 requires it. \n",
      "\u001b[36mINFO\u001b[0m[0022] Taking snapshot of full filesystem...        \n",
      "\u001b[36mINFO\u001b[0m[0040] RUN pip install v3io_frames fsspec>=0.3.3 PyYAML==5.1.2 pyarrow==0.15.1 pandas==0.25.3 dask-kubernetes dask-ml[\"complete\"]==1.0.0 dask-xgboost==0.1.7 \n",
      "\u001b[36mINFO\u001b[0m[0040] cmd: /bin/sh                                 \n",
      "\u001b[36mINFO\u001b[0m[0040] args: [-c pip install v3io_frames fsspec>=0.3.3 PyYAML==5.1.2 pyarrow==0.15.1 pandas==0.25.3 dask-kubernetes dask-ml[\"complete\"]==1.0.0 dask-xgboost==0.1.7] \n",
      "WARNING: You are using pip version 19.2.3, however version 20.0.2 is available.\n",
      "You should consider upgrading via the 'pip install --upgrade pip' command.\n",
      "\u001b[36mINFO\u001b[0m[0123] Taking snapshot of full filesystem...        \n",
      "\u001b[36mINFO\u001b[0m[0125] Adding whiteout for /usr/local/lib/python3.6/site-packages/PyYAML-5.3.dist-info \n",
      "\u001b[36mINFO\u001b[0m[0196] RUN pip install v3io_frames netapp_ontap     \n",
      "\u001b[36mINFO\u001b[0m[0196] cmd: /bin/sh                                 \n",
      "\u001b[36mINFO\u001b[0m[0196] args: [-c pip install v3io_frames netapp_ontap] \n",
      "Requirement already satisfied: v3io_frames in /usr/local/lib/python3.6/site-packages (0.6.14)\n",
      "Collecting netapp_ontap\n",
      "  Downloading https://files.pythonhosted.org/packages/01/f2/fcf425a35babcdc32776fe10f47cdd41f4edc9178217ba1489bf2991e84d/netapp_ontap-9.7.0-py3-none-any.whl (882kB)\n",
      "Requirement already satisfied: googleapis-common-protos>=1.5.3 in /usr/local/lib/python3.6/site-packages (from v3io_frames) (1.51.0)\n",
      "Requirement already satisfied: requests>=2.19.1 in /usr/local/lib/python3.6/site-packages (from v3io_frames) (2.23.0)\n",
      "Requirement already satisfied: grpcio-tools>=1.26.0 in /usr/local/lib/python3.6/site-packages (from v3io_frames) (1.27.2)\n",
      "Requirement already satisfied: pandas>=0.23.4 in /usr/local/lib/python3.6/site-packages (from v3io_frames) (0.25.3)\n",
      "Collecting marshmallow>=3.2.1 (from netapp_ontap)\n",
      "  Downloading https://files.pythonhosted.org/packages/d8/0b/bb43d7610e71d87e8537025841c248471dbf938c676d32b8f94c82148c04/marshmallow-3.5.1-py2.py3-none-any.whl (45kB)\n",
      "Requirement already satisfied: protobuf>=3.6.0 in /usr/local/lib/python3.6/site-packages (from googleapis-common-protos>=1.5.3->v3io_frames) (3.11.3)\n",
      "Requirement already satisfied: idna<3,>=2.5 in /usr/local/lib/python3.6/site-packages (from requests>=2.19.1->v3io_frames) (2.9)\n",
      "Requirement already satisfied: certifi>=2017.4.17 in /usr/local/lib/python3.6/site-packages (from requests>=2.19.1->v3io_frames) (2019.11.28)\n",
      "Requirement already satisfied: urllib3!=1.25.0,!=1.25.1,<1.26,>=1.21.1 in /usr/local/lib/python3.6/site-packages (from requests>=2.19.1->v3io_frames) (1.24.3)\n",
      "Requirement already satisfied: chardet<4,>=3.0.2 in /usr/local/lib/python3.6/site-packages (from requests>=2.19.1->v3io_frames) (3.0.4)\n",
      "Requirement already satisfied: grpcio>=1.27.2 in /usr/local/lib/python3.6/site-packages (from grpcio-tools>=1.26.0->v3io_frames) (1.27.2)\n",
      "Requirement already satisfied: pytz>=2017.2 in /usr/local/lib/python3.6/site-packages (from pandas>=0.23.4->v3io_frames) (2019.3)\n",
      "Requirement already satisfied: numpy>=1.13.3 in /usr/local/lib/python3.6/site-packages (from pandas>=0.23.4->v3io_frames) (1.18.1)\n",
      "Requirement already satisfied: python-dateutil>=2.6.1 in /usr/local/lib/python3.6/site-packages (from pandas>=0.23.4->v3io_frames) (2.8.1)\n",
      "Requirement already satisfied: setuptools in /usr/local/lib/python3.6/site-packages (from protobuf>=3.6.0->googleapis-common-protos>=1.5.3->v3io_frames) (41.2.0)\n",
      "Requirement already satisfied: six>=1.9 in /usr/local/lib/python3.6/site-packages (from protobuf>=3.6.0->googleapis-common-protos>=1.5.3->v3io_frames) (1.14.0)\n",
      "Installing collected packages: marshmallow, netapp-ontap\n",
      "Successfully installed marshmallow-3.5.1 netapp-ontap-9.7.0\n",
      "WARNING: You are using pip version 19.2.3, however version 20.0.2 is available.\n",
      "You should consider upgrading via the 'pip install --upgrade pip' command.\n",
      "\u001b[36mINFO\u001b[0m[0198] Taking snapshot of full filesystem...        \n",
      "[mlrun] 2020-03-13 19:44:38,821 pod still running, waiting 2 sec\n",
      "[mlrun] 2020-03-13 19:44:40,829 build completed with succeeded\n",
      "[mlrun] 2020-03-13 19:44:40,830 database connection is not configured\n"
     ]
    },
    {
     "data": {
      "text/plain": [
       "True"
      ]
     },
     "execution_count": 9,
     "metadata": {},
     "output_type": "execute_result"
    }
   ],
   "source": [
    "fn.build_config(image=docker_registry + '/netapp/pipeline:latest',commands=['pip install v3io_frames netapp_ontap'])\n",
    "fn.deploy()"
   ]
  },
  {
   "cell_type": "code",
   "execution_count": null,
   "metadata": {},
   "outputs": [],
   "source": []
  }
 ],
 "metadata": {
  "kernelspec": {
   "display_name": "Python 3",
   "language": "python",
   "name": "python3"
  },
  "language_info": {
   "codemirror_mode": {
    "name": "ipython",
    "version": 3
   },
   "file_extension": ".py",
   "mimetype": "text/x-python",
   "name": "python",
   "nbconvert_exporter": "python",
   "pygments_lexer": "ipython3",
   "version": "3.6.8"
  }
 },
 "nbformat": 4,
 "nbformat_minor": 4
}
