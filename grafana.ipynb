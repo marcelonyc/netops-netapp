{
 "cells": [
  {
   "cell_type": "markdown",
   "metadata": {},
   "source": [
    "# Create a Grafana Data Source and Dashboard"
   ]
  },
  {
   "cell_type": "markdown",
   "metadata": {},
   "source": [
    "Follow the steps in this this tutorial to define a custom \"iguazio\" Grafana data source and create a \"netops_metrics_jupyter\" Grafana dashboard that uses this data source to query tables in the Iguazio Data Science Platform (**\"the platform\"**).<br>\n",
    "Make sure the grafana service is up and running"
   ]
  },
  {
   "cell_type": "code",
   "execution_count": 3,
   "metadata": {
    "scrolled": true
   },
   "outputs": [
    {
     "name": "stdout",
     "output_type": "stream",
     "text": [
      "Collecting git+https://github.com/v3io/grafwiz.git\n",
      "  Cloning https://github.com/v3io/grafwiz.git to /tmp/pip-req-build-2n8aebfd\n",
      "Collecting grafanalib==0.5.3 (from grafwiz==0.1.0)\n",
      "  Downloading https://files.pythonhosted.org/packages/dc/b2/690724e7e526f775c5f53d4c2d697293abf0e7455bed7d758282d6b40f09/grafanalib-0.5.3-py3-none-any.whl\n",
      "Collecting attrs==19.1.0 (from grafwiz==0.1.0)\n",
      "  Downloading https://files.pythonhosted.org/packages/23/96/d828354fa2dbdf216eaa7b7de0db692f12c234f7ef888cc14980ef40d1d2/attrs-19.1.0-py2.py3-none-any.whl\n",
      "Building wheels for collected packages: grafwiz\n",
      "  Running setup.py bdist_wheel for grafwiz ... \u001b[?25ldone\n",
      "\u001b[?25h  Stored in directory: /tmp/pip-ephem-wheel-cache-r1bb8luz/wheels/8f/07/f3/185d8b497806aae5db86574055449669bd6c6658be2a5f9ec4\n",
      "Successfully built grafwiz\n",
      "Installing collected packages: attrs, grafanalib, grafwiz\n",
      "  Found existing installation: attrs 19.3.0\n",
      "    Uninstalling attrs-19.3.0:\n",
      "      Successfully uninstalled attrs-19.3.0\n",
      "Successfully installed attrs-19.1.0 grafanalib-0.5.3 grafwiz-0.1.0\n"
     ]
    }
   ],
   "source": [
    "!pip install git+https://github.com/v3io/grafwiz.git"
   ]
  },
  {
   "cell_type": "code",
   "execution_count": 4,
   "metadata": {},
   "outputs": [],
   "source": [
    "from grafwiz import *\n",
    "import os"
   ]
  },
  {
   "cell_type": "code",
   "execution_count": 5,
   "metadata": {},
   "outputs": [],
   "source": [
    "# Grafana internal cluster address (will be http://grafana)\n",
    "grafana_url = 'http://grafana'"
   ]
  },
  {
   "cell_type": "code",
   "execution_count": 9,
   "metadata": {},
   "outputs": [
    {
     "name": "stdout",
     "output_type": "stream",
     "text": [
      "Dashboard netops_predictions created successfully\n"
     ]
    }
   ],
   "source": [
    "# Create a new Grafana dashboard netops_predictions\n",
    "dash = Dashboard(\"netops_predictions\", start='now-62h', dataSource='Iguazio')\n",
    "\n",
    "# Create Charts for all the prediction table features & actual prediction\n",
    "#dash.row([Graph(metric).series(table=\"netops/netops_predictions\", fields=[metric], container=\"bigdata\") for metric in ['cpu_utilization_raw','cpu_utilization_minutely', 'cpu_utilization_hourly']])\n",
    "#dash.row([Graph(metric).series(table=\"netops/netops_predictions\", fields=[metric], container=\"bigdata\") for metric in ['latency_raw','latency_minutely', 'latency_hourly']])\n",
    "#dash.row([Graph(metric).series(table=\"netops/netops_predictions\", fields=[metric], container=\"bigdata\") for metric in ['throughput_raw','throughput_minutely', 'throughput_hourly']])\n",
    "#dash.row([Graph(metric).series(table=\"netops/netops_predictions\", fields=[metric], container=\"bigdata\") for metric in ['packet_loss_raw','packet_loss_minutely', 'packet_loss_hourly']])\n",
    "dash.row([Graph(metric).series(table=\"netops/netops_predictions\", fields=[metric], container=\"bigdata\") for metric in ['is_error_raw','prediction']])\n",
    "\n",
    "# Deploy to Grafana\n",
    "dash.deploy(grafana_url)"
   ]
  },
  {
   "cell_type": "markdown",
   "metadata": {},
   "source": [
    "Once the dashboard is created successfully go to the Grafana service. Under the manage dashboard you will find the netops_metrics_jupyter dashboard"
   ]
  }
 ],
 "metadata": {
  "kernelspec": {
   "display_name": "Python 3",
   "language": "python",
   "name": "python3"
  },
  "language_info": {
   "codemirror_mode": {
    "name": "ipython",
    "version": 3
   },
   "file_extension": ".py",
   "mimetype": "text/x-python",
   "name": "python",
   "nbconvert_exporter": "python",
   "pygments_lexer": "ipython3",
   "version": "3.6.8"
  }
 },
 "nbformat": 4,
 "nbformat_minor": 4
}
