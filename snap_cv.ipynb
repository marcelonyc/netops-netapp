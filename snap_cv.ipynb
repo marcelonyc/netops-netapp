{
 "cells": [
  {
   "cell_type": "code",
   "execution_count": 1,
   "metadata": {},
   "outputs": [],
   "source": [
    "import subprocess\n",
    "import os\n",
    "import base64\n",
    "from datetime import datetime"
   ]
  },
  {
   "cell_type": "code",
   "execution_count": 4,
   "metadata": {},
   "outputs": [],
   "source": [
    "def snap(command, exec_env):\n",
    "    print(command,exec_env)\n",
    "    snap = subprocess.Popen([\"bash\",\"-x\",command],\n",
    "                            stdin =subprocess.PIPE,\n",
    "                            stdout=subprocess.PIPE,\n",
    "                            stderr=subprocess.PIPE,\n",
    "                            universal_newlines=True,\n",
    "                            bufsize=0,\n",
    "                            cwd='/tmp',\n",
    "                           env=exec_env)\n",
    "\n",
    "    # Send ssh commands to stdin\n",
    "    #snap.stdin.write(\"uname -a\\n\")\n",
    "    #snap.stdin.write(\"uptime\\n\")\n",
    "    #snap.stdin.close()\n",
    "\n",
    "    # Fetch output\n",
    "    for line in snap.stdout:\n",
    "        print(line.strip())"
   ]
  },
  {
   "cell_type": "code",
   "execution_count": null,
   "metadata": {},
   "outputs": [],
   "source": [
    "def get_latest_dataset(context,snap_path):\n",
    "    metrics_table=os.path.join(snap_path,context.get_param('metrics_table', 'metrics_table'))\n",
    "    # Get parquet files\n",
    "    mpath = [os.path.join(metrics_table, file) for file in os.listdir(metrics_table)]\n",
    "    \n",
    "    # Get latest filename\n",
    "    latest = max(mpath, key=os.path.getmtime)\n",
    "    context.log_result('training_parquet_file',latest)\n",
    "    context.logger.debug(f'Reading data from: {latest}')\n",
    "    \n",
    "    return \"\""
   ]
  },
  {
   "cell_type": "code",
   "execution_count": 8,
   "metadata": {},
   "outputs": [],
   "source": [
    "def handler(context):\n",
    "    is_simulated = context.get_param('NETAPP_SIM',False)\n",
    "    NETAPP_MOUNT_PATH = context.get_param('NETAPP_MOUNT_PATH','/netapp')\n",
    "    print(\"SIMULATED\")\n",
    "    if is_simulated:\n",
    "        snap_path = os.path.join(NETAPP_MOUNT_PATH)\n",
    "        context.log_result('snapVolumeDetails',snap_path)\n",
    "        context.logger.info('snap volume name: %s'%snap_path)\n",
    "        get_latest_dataset(context,snap_path) \n",
    "        return snap_path\n",
    "    exec_env={}\n",
    "    exec_env['MANAGER'] = context.get_param('MANAGER')\n",
    "    exec_env['svm'] = context.get_param('svm')\n",
    "    exec_env['email']  = context.get_param('email')\n",
    "    exec_env['password'] = context.get_param('password')\n",
    "    exec_env['weid']  = context.get_param('weid')\n",
    "    exec_env['volume'] = context.get_param('volume')\n",
    "    exec_env['NETAPP_MOUNT_PATH'] = context.get_param('NETAPP_MOUNT_PATH')\n",
    "    \n",
    "    command = os.path.join(context.get_param('APP_DIR'),\"snap_cv.sh\")\n",
    "    \n",
    "    timestamp = datetime.today().strftime(\"%Y%m%d_%H%M%S\")\n",
    "    exec_env['snapshotName'] = 'kfp_%s' % timestamp\n",
    "    \n",
    "    NETAPP_MOUNT_PATH = context.get_param('NETAPP_MOUNT_PATH','/netapp')\n",
    "    \n",
    "    snap(command, exec_env)\n",
    "    \n",
    "    snap_path = os.path.join(NETAPP_MOUNT_PATH,'.snapshot',exec_env['snapshotName'])\n",
    "    \n",
    "    context.log_result('snapVolumeDetails',snap_path)\n",
    "    context.logger.info('Source Cloud volume name: %s Snapshop: %s' % (exec_env['volume'],exec_env['snapshotName']))\n",
    "    \n",
    "    get_latest_dataset(context,snap_path)    "
   ]
  },
  {
   "cell_type": "code",
   "execution_count": null,
   "metadata": {},
   "outputs": [],
   "source": []
  }
 ],
 "metadata": {
  "kernelspec": {
   "display_name": "Python 3",
   "language": "python",
   "name": "python3"
  },
  "language_info": {
   "codemirror_mode": {
    "name": "ipython",
    "version": 3
   },
   "file_extension": ".py",
   "mimetype": "text/x-python",
   "name": "python",
   "nbconvert_exporter": "python",
   "pygments_lexer": "ipython3",
   "version": "3.6.8"
  }
 },
 "nbformat": 4,
 "nbformat_minor": 4
}
