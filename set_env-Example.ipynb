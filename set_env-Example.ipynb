{
 "cells": [
  {
   "cell_type": "code",
   "execution_count": null,
   "metadata": {},
   "outputs": [],
   "source": [
    "docker_registry = '<Get from Iguazio services for docker>'\n",
    "                # Example docker-registry.default-tenant.app.clusterq.iguaziodev.com:80"
   ]
  },
  {
   "cell_type": "code",
   "execution_count": null,
   "metadata": {},
   "outputs": [],
   "source": [
    "# NetApp Volumes\n",
    "NETAPP_SIM = False          ## IF set to True because of no NetApp available, see additional changes below\n",
    "NETAPP_PVC_CLAIM = 'basic'\n",
    "NETAPP_MOUNT_PATH = '/netapp'  ### For Simulation without NetApp make this /User/netapp\n",
    "NETAPP_CLOUD_VOLUME = True"
   ]
  },
  {
   "cell_type": "code",
   "execution_count": 51,
   "metadata": {},
   "outputs": [],
   "source": [
    "netapp_volume_mounts = {'mountPath': NETAPP_MOUNT_PATH, 'name': 'nfs-pvc'}\n",
    "netapp_volumes = {'name': 'nfs-pvc',\n",
    "                       'persistentVolumeClaim': {'claimName': NETAPP_PVC_CLAIM }}"
   ]
  },
  {
   "cell_type": "code",
   "execution_count": null,
   "metadata": {},
   "outputs": [],
   "source": [
    "# Iguazio volumes\n",
    "IGZ_MOUNT_PATH = '/User'\n",
    "IGZ_CONTAINER_PATH  = '/users/admin'"
   ]
  },
  {
   "cell_type": "code",
   "execution_count": null,
   "metadata": {},
   "outputs": [],
   "source": [
    "APP_DIR = \"/User/netops-netapp\"\n",
    "DATA_DIR = \"/netapp\" ### For Simulation without NetApp make this /User/netapp"
   ]
  },
  {
   "cell_type": "code",
   "execution_count": null,
   "metadata": {},
   "outputs": [],
   "source": [
    "## Cloud volume information \n",
    "MANAGER='hostname_ip'\n",
    "svm='svm'\n",
    "email='email'\n",
    "password='password'\n",
    "weid=\"weid\"\n",
    "volume='sourceVolumeName'\n",
    "\n",
    "## Ontap on-prem information\n",
    "ontapClusterMgmtHostname = '0.0.0.0'\n",
    "ontapClusterAdminUsername = 'USER'\n",
    "ontapClusterAdminPassword = 'PASSWORD'\n",
    "sourceVolumeName = 'SOURCE VOLUME'"
   ]
  },
  {
   "cell_type": "code",
   "execution_count": null,
   "metadata": {},
   "outputs": [],
   "source": [
    "artifacts_path = 'v3io:///users/admin/mlrun/kfp/{{workflow.uid}}/'"
   ]
  },
  {
   "cell_type": "code",
   "execution_count": null,
   "metadata": {},
   "outputs": [],
   "source": [
    "FEATURES_TABLE=\"netops_features_parquet\"\n",
    "SAVE_TO=\"models\"\n",
    "metrics_table=\"netops_metrics_parquet\"\n",
    "features_table=\"netops_features_parquet\"\n",
    "PREDICTIONS_TABLE='netops_predictions'"
   ]
  },
  {
   "cell_type": "code",
   "execution_count": null,
   "metadata": {},
   "outputs": [],
   "source": [
    "!./pip_install.sh"
   ]
  }
 ],
 "metadata": {
  "kernelspec": {
   "display_name": "Python 3",
   "language": "python",
   "name": "python3"
  },
  "language_info": {
   "codemirror_mode": {
    "name": "ipython",
    "version": 3
   },
   "file_extension": ".py",
   "mimetype": "text/x-python",
   "name": "python",
   "nbconvert_exporter": "python",
   "pygments_lexer": "ipython3",
   "version": "3.6.8"
  }
 },
 "nbformat": 4,
 "nbformat_minor": 4
}
