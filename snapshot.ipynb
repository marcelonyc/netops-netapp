{
 "cells": [
  {
   "cell_type": "code",
   "execution_count": null,
   "metadata": {},
   "outputs": [],
   "source": []
  },
  {
   "cell_type": "code",
   "execution_count": 1,
   "metadata": {},
   "outputs": [],
   "source": [
    "from mlrun import get_or_create_ctx, mlconf\n",
    "from mlrun.artifacts import TableArtifact"
   ]
  },
  {
   "cell_type": "code",
   "execution_count": 2,
   "metadata": {},
   "outputs": [
    {
     "name": "stdout",
     "output_type": "stream",
     "text": [
      "[mlrun] 2020-03-14 20:28:53,206 logging run results to: http://10.196.67.76:8080\n"
     ]
    }
   ],
   "source": [
    "# nuclio: ignore\n",
    "mlrunctx = get_or_create_ctx('mlrun')"
   ]
  },
  {
   "cell_type": "code",
   "execution_count": 3,
   "metadata": {},
   "outputs": [],
   "source": [
    "# Import needed functions/classes\n",
    "from netapp_ontap import config as netappConfig\n",
    "from netapp_ontap.host_connection import HostConnection as NetAppHostConnection\n",
    "from netapp_ontap.resources import Volume, Snapshot\n",
    "from netapp_ontap import config, utils\n",
    "\n",
    "from datetime import datetime\n",
    "import json\n",
    "import sys, subprocess\n",
    "import os\n"
   ]
  },
  {
   "cell_type": "code",
   "execution_count": 7,
   "metadata": {},
   "outputs": [],
   "source": [
    "def netappSnapshot(\n",
    "    context,\n",
    "    ontapClusterMgmtHostname,\n",
    "    ontapClusterAdminUsername,\n",
    "    ontapClusterAdminPassword,\n",
    "    sourceVolumeName,\n",
    "    verifySSLCert\n",
    "):\n",
    "    is_simulated = context.get_param('NETAPP_SIM',False)\n",
    "    NETAPP_MOUNT_PATH = context.get_param('NETAPP_MOUNT_PATH','/netapp')\n",
    "    print(\"SIMULATED\",is_simulated,ontapClusterMgmtHostname,context)\n",
    "    if is_simulated:\n",
    "        snap_path = os.path.join(NETAPP_MOUNT_PATH)\n",
    "        context.log_result('snapVolumeDetails',snap_path)\n",
    "        context.logger.info('snap volume name: %s'%snap_path)\n",
    "        return snap_path\n",
    "    print(\"====>\",ontapClusterMgmtHostname)  \n",
    "    # Configure connection to ONTAP cluster/instance\n",
    "    netappConfig.CONNECTION = NetAppHostConnection(\n",
    "        host = ontapClusterMgmtHostname,\n",
    "        username = ontapClusterAdminUsername,\n",
    "        password = ontapClusterAdminPassword,\n",
    "        verify = verifySSLCert\n",
    "    )\n",
    "   \n",
    "    # Convert pv name to ONTAP volume name\n",
    "    # The following will not work if you specified a custom storagePrefix when creating your\n",
    "    #   Trident backend. If you specified a custom storagePrefix, you will need to update this\n",
    "    #   code to match your prefix.\n",
    "    #volumeName = 'trident_%s' % pvName.replace(\"-\", \"_\")\n",
    "    volumeName = sourceVolumeName\n",
    "    \n",
    "    \n",
    "    context.logger.info('Source ONTAP volume name: %s'%sourceVolumeName)\n",
    "    \n",
    "    # Create snapshot; print API response\n",
    "    volume = Volume.find(name = volumeName)\n",
    "    timestamp = datetime.today().strftime(\"%Y%m%d_%H%M%S\")\n",
    "    snapshot = Snapshot.from_dict({\n",
    "        'name': 'kfp_%s' % timestamp,\n",
    "        'comment': 'Snapshot created by a Kubeflow pipeline',\n",
    "        'volume': volume.to_dict()\n",
    "    })\n",
    "    response = snapshot.post()\n",
    "    print(\"\\nAPI Response:\")\n",
    "    print(response.http_response.text)\n",
    " \n",
    "    # Retrieve snapshot details\n",
    "    snapshot.get()\n",
    " \n",
    "    # Convert snapshot details to JSON string and print\n",
    "    snapshotDetails = snapshot.to_dict()\n",
    "    print(\"\\nSnapshot Details:\")\n",
    "    print(json.dumps(snapshotDetails, indent=2))\n",
    " \n",
    "    snap_path = os.path.join(NETAPP_MOUNT_PATH,'.snapshot',snapshotDetails['name'])\n",
    "    context.log_result('snapVolumeDetails',snap_path)\n",
    "    # Return name of newly created snapshot\n",
    "    return snap_path\n"
   ]
  },
  {
   "cell_type": "code",
   "execution_count": null,
   "metadata": {},
   "outputs": [],
   "source": [
    "def get_latest_dataset(context,snap_path):\n",
    "    metrics_table=os.path.join(snap_path,context.get_param('metrics_table', 'metrics_table'))\n",
    "    # Get parquet files\n",
    "    mpath = [os.path.join(metrics_table, file) for file in os.listdir(metrics_table)]\n",
    "    \n",
    "    # Get latest filename\n",
    "    latest = max(mpath, key=os.path.getmtime)\n",
    "    context.log_result('training_parquet_file',latest)\n",
    "    context.logger.debug(f'Reading data from: {latest}')\n",
    "    \n",
    "    return \"\""
   ]
  },
  {
   "cell_type": "code",
   "execution_count": 13,
   "metadata": {},
   "outputs": [],
   "source": [
    "def handler(context,\n",
    "    ontapClusterMgmtHostname  = 'localhost',\n",
    "    ontapClusterAdminUsername = 'admin',\n",
    "    ontapClusterAdminPassword = 'NetApp!23',\n",
    "    sourceVolumeName = 'trident_default_tenant_basic_08204',\n",
    "    verifySSLCert: bool = False\n",
    "):\n",
    "    # snap NetApp Volume\n",
    "    snap_path  = netappSnapshot(context,ontapClusterMgmtHostname,ontapClusterAdminUsername,ontapClusterAdminPassword,sourceVolumeName,verifySSLCert)\n",
    "    \n",
    "    get_latest_dataset(context,snap_path)\n",
    "    # Get latest data set for training"
   ]
  },
  {
   "cell_type": "code",
   "execution_count": null,
   "metadata": {},
   "outputs": [],
   "source": []
  }
 ],
 "metadata": {
  "kernelspec": {
   "display_name": "Python 3",
   "language": "python",
   "name": "python3"
  },
  "language_info": {
   "codemirror_mode": {
    "name": "ipython",
    "version": 3
   },
   "file_extension": ".py",
   "mimetype": "text/x-python",
   "name": "python",
   "nbconvert_exporter": "python",
   "pygments_lexer": "ipython3",
   "version": "3.6.8"
  }
 },
 "nbformat": 4,
 "nbformat_minor": 4
}
