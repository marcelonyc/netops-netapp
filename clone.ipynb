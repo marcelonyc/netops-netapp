{
 "cells": [
  {
   "cell_type": "code",
   "execution_count": 1,
   "metadata": {},
   "outputs": [],
   "source": [
    "from mlrun import get_or_create_ctx, mlconf\n",
    "from mlrun.artifacts import TableArtifact"
   ]
  },
  {
   "cell_type": "code",
   "execution_count": 2,
   "metadata": {},
   "outputs": [
    {
     "name": "stdout",
     "output_type": "stream",
     "text": [
      "[mlrun] 2020-03-14 20:28:53,206 logging run results to: http://10.196.67.76:8080\n"
     ]
    }
   ],
   "source": [
    "# nuclio: ignore\n",
    "mlrunctx = get_or_create_ctx('mlrun')"
   ]
  },
  {
   "cell_type": "code",
   "execution_count": 3,
   "metadata": {},
   "outputs": [],
   "source": [
    "# Import needed functions/classes\n",
    "from netapp_ontap import config as netappConfig\n",
    "from netapp_ontap.host_connection import HostConnection as NetAppHostConnection\n",
    "from netapp_ontap.resources import Volume, Snapshot\n",
    "from netapp_ontap import config, utils\n",
    "\n",
    "from datetime import datetime\n",
    "import json\n",
    "import sys, subprocess\n",
    "import os\n"
   ]
  },
  {
   "cell_type": "code",
   "execution_count": 7,
   "metadata": {},
   "outputs": [],
   "source": [
    "def netappClone(\n",
    "    context,\n",
    "    ontapClusterMgmtHostname,\n",
    "    ontapClusterAdminUsername,\n",
    "    ontapClusterAdminPassword,\n",
    "    sourceVolumeName,\n",
    "    verifySSLCert\n",
    "):\n",
    "    \n",
    "    is_simulated = context.get_param('NETAPP_SIM',False)\n",
    "    NETAPP_MOUNT_PATH = context.get_param('NETAPP_MOUNT_PATH','/User/nfs')\n",
    "    print(\"SIMULATED\",is_simulated,ontapClusterMgmtHostname,context)\n",
    "    if is_simulated:\n",
    "        clone_path = os.path.join(NETAPP_MOUNT_PATH,\"clone\")\n",
    "        context.log_result('cloneVolumeDetails',clone_path)\n",
    "        context.logger.info('Clone volume name: %s'%clone_path)\n",
    "        return clone_path\n",
    "    print(\"====>\",ontapClusterMgmtHostname)\n",
    "    # Configure connection to ONTAP cluster/instance\n",
    "    netappConfig.CONNECTION = NetAppHostConnection(\n",
    "        host = ontapClusterMgmtHostname,\n",
    "        username = ontapClusterAdminUsername,\n",
    "        password = ontapClusterAdminPassword,\n",
    "        verify = verifySSLCert\n",
    "    )\n",
    "   \n",
    "    \n",
    "    #print('\\nSource pv name: ', sourcePvName)\n",
    "    context.logger.info('Source ONTAP volume name: %s'%sourceVolumeName)\n",
    " \n",
    "    # Create clone\n",
    "    \n",
    "    sourceVolume = Volume.find(name = sourceVolumeName)\n",
    "    timestamp = datetime.today().strftime(\"%Y%m%d_%H%M%S\")\n",
    "    cloneVolumeName = 'kfp_clone_%s' % timestamp\n",
    "    cloneVolume = Volume.from_dict({\n",
    "        'name': cloneVolumeName,\n",
    "        'svm': sourceVolume.to_dict()['svm'],\n",
    "        'clone': {\n",
    "            'is_flexclone':'true',\n",
    "            'parent_volume': sourceVolume.to_dict()\n",
    "        },\n",
    "        'nas': {\n",
    "            'path': '/%s' % cloneVolumeName\n",
    "        }\n",
    "    })\n",
    "    response = cloneVolume.post()\n",
    "    print(\"\\nAPI Response:\")\n",
    "    print(response.http_response.text)\n",
    " \n",
    "    # Retrieve clone volume details\n",
    "    cloneVolume.get()\n",
    " \n",
    "    # Convert clone volume details to JSON string\n",
    "    cloneVolumeDetails = cloneVolume.to_dict()\n",
    "    print(\"\\nClone Volume Details:\")\n",
    "    print(json.dumps(cloneVolumeDetails, indent=2))\n",
    " \n",
    "    clone_path = os.path.join(NETAPP_MOUNT_PATH,cloneVolumeDetails['name'])\n",
    "    context.log_result('cloneVolumeDetails',clone_path)\n",
    "    # Return name of new clone volume\n",
    "    return clone_path"
   ]
  },
  {
   "cell_type": "code",
   "execution_count": null,
   "metadata": {},
   "outputs": [],
   "source": [
    "def get_latest_dataset(context,clone_path):\n",
    "    features_table=os.path.join(clone_path,context.get_param('FEATURES_TABLE', 'netops_features'))\n",
    "    # Get parquet files\n",
    "    mpath = [os.path.join(features_table, file) for file in os.listdir(features_table)]\n",
    "    \n",
    "    # Get latest filename\n",
    "    latest = max(mpath, key=os.path.getmtime)\n",
    "    context.log_result('training_parquet_file',latest)\n",
    "    context.logger.debug(f'Reading data from: {latest}')\n",
    "    \n",
    "    return \"\""
   ]
  },
  {
   "cell_type": "code",
   "execution_count": 13,
   "metadata": {},
   "outputs": [],
   "source": [
    "def handler(context,\n",
    "    ontapClusterMgmtHostname  = 'localhost',\n",
    "    ontapClusterAdminUsername = 'admin',\n",
    "    ontapClusterAdminPassword = 'NetApp!23',\n",
    "    sourceVolumeName = 'trident_default_tenant_basic_08204',\n",
    "    verifySSLCert: bool = False\n",
    "):\n",
    "    # Clone NetApp Volume\n",
    "    clone_path  = netappClone(context,ontapClusterMgmtHostname,ontapClusterAdminUsername,ontapClusterAdminPassword,sourceVolumeName,verifySSLCert)\n",
    "    \n",
    "    get_latest_dataset(context,clone_path)\n",
    "    # Get latest data set for training\n",
    "    \n",
    "    \n",
    "    "
   ]
  },
  {
   "cell_type": "code",
   "execution_count": null,
   "metadata": {},
   "outputs": [],
   "source": [
    "# nuclio: ignore\n",
    "import logging\n",
    "logging.basicConfig(level=logging.DEBUG)\n",
    "output = netappClone(mlrunctx,ontapClusterMgmtHostname = '3.135.218.180',\n",
    "ontapClusterAdminUsername = 'marcelol@iguazio.com',\n",
    "ontapClusterAdminPassword = 'd@ta1sg00d',\n",
    "sourceVolumeName = 'kubernetes_trident_pvc_551720fa_3758_461b_ac2c_fb688b676e4c')\n",
    "output"
   ]
  },
  {
   "cell_type": "code",
   "execution_count": null,
   "metadata": {},
   "outputs": [],
   "source": []
  },
  {
   "cell_type": "code",
   "execution_count": null,
   "metadata": {},
   "outputs": [],
   "source": []
  }
 ],
 "metadata": {
  "kernelspec": {
   "display_name": "Python 3",
   "language": "python",
   "name": "python3"
  },
  "language_info": {
   "codemirror_mode": {
    "name": "ipython",
    "version": 3
   },
   "file_extension": ".py",
   "mimetype": "text/x-python",
   "name": "python",
   "nbconvert_exporter": "python",
   "pygments_lexer": "ipython3",
   "version": "3.6.8"
  }
 },
 "nbformat": 4,
 "nbformat_minor": 4
}
