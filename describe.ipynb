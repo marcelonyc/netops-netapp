{
 "cells": [
  {
   "cell_type": "code",
   "execution_count": null,
   "metadata": {},
   "outputs": [],
   "source": [
    " pqf = \"/User/nfs/clone/netops_features_parquet/20200315T165323-20200316T011133.parquet\""
   ]
  },
  {
   "cell_type": "code",
   "execution_count": null,
   "metadata": {},
   "outputs": [],
   "source": [
    "import pandas as pd\n",
    "df = pd.read_parquet(pqf)\n",
    "df.head(1)"
   ]
  },
  {
   "cell_type": "code",
   "execution_count": null,
   "metadata": {},
   "outputs": [],
   "source": [
    "# Copyright 2018 Iguazio\n",
    "#\n",
    "# Licensed under the Apache License, Version 2.0 (the \"License\");\n",
    "# you may not use this file except in compliance with the License.\n",
    "# You may obtain a copy of the License at\n",
    "#\n",
    "#   http://www.apache.org/licenses/LICENSE-2.0\n",
    "#\n",
    "# Unless required by applicable law or agreed to in writing, software\n",
    "# distributed under the License is distributed on an \"AS IS\" BASIS,\n",
    "# WITHOUT WARRANTIES OR CONDITIONS OF ANY KIND, either express or implied.\n",
    "# See the License for the specific language governing permissions and\n",
    "# limitations under the License.\n",
    "import os\n",
    "import numpy as np\n",
    "import pandas as pd\n",
    "import matplotlib.pyplot as plt\n",
    "import seaborn as sns\n",
    "\n",
    "from mlrun.execution import MLClientCtx\n",
    "from mlrun.datastore import DataItem\n",
    "from mlrun.artifacts import PlotArtifact, TableArtifact\n",
    "from mlrun import get_or_create_ctx\n",
    "from yellowbrick.target import ClassBalance\n",
    "from sklearn.preprocessing import StandardScaler\n",
    "\n",
    "from typing import IO, AnyStr, Union, List, Optional"
   ]
  },
  {
   "cell_type": "code",
   "execution_count": null,
   "metadata": {},
   "outputs": [],
   "source": [
    "pd.set_option(\"display.float_format\", lambda x: \"%.2f\" % x)"
   ]
  },
  {
   "cell_type": "code",
   "execution_count": null,
   "metadata": {},
   "outputs": [],
   "source": [
    "def _gcf_clear(plt):\n",
    "    plt.cla()\n",
    "    plt.clf()\n",
    "    plt.close() \n",
    "\n",
    "def describe(\n",
    "    context: MLClientCtx,\n",
    "    table: Union[DataItem, str],\n",
    "    label_column: str,\n",
    "    class_labels: List[str],\n",
    "    key: str = \"table-summary\",\n",
    ") -> None:\n",
    "    \"\"\"Summarize a table\n",
    "\n",
    "    TODO: merge with dask version\n",
    "\n",
    "    :param context:         the function context\n",
    "    :param table:           pandas dataframe\n",
    "    :param key:             key of table summary in artifact store\n",
    "    \"\"\"\n",
    "    _gcf_clear(plt)\n",
    "    \n",
    "    base_path = \"/tmp/test\"\n",
    "    os.makedirs(base_path, exist_ok=True)\n",
    "    os.makedirs(base_path+\"/plots\", exist_ok=True)\n",
    "    \n",
    "    print(f'TABLE {table}')\n",
    "    table = pd.read_parquet(str(table))\n",
    "    header = table.columns.values\n",
    "    \n",
    "    # describe table\n",
    "    sumtbl = table.describe()\n",
    "    sumtbl = sumtbl.append(len(table.index)-table.count(), ignore_index=True)\n",
    "    sumtbl.insert(0, \"metric\", [\"count\", \"mean\", \"std\", \"min\",\"25%\", \"50%\", \"75%\", \"max\", \"nans\"])\n",
    "    \n",
    "    sumtbl.to_csv(os.path.join(base_path, key+\".csv\"), index=False)\n",
    "    context.log_artifact(key, local_path=key+\".csv\")\n",
    "\n",
    "    # plot class balance, record relative class weight\n",
    "    _gcf_clear(plt)\n",
    "    \n",
    "    labels = table.pop(label_column)\n",
    "    class_balance_model = ClassBalance(labels=class_labels)\n",
    "    class_balance_model.fit(labels)\n",
    "    \n",
    "    scale_pos_weight = class_balance_model.support_[0]/class_balance_model.support_[1]\n",
    "    #context.log_artifact(\"scale_pos_weight\", f\"{scale_pos_weight:0.2f}\")\n",
    "    context.log_artifact(\"scale_pos_weight\", str(scale_pos_weight))\n",
    "\n",
    "    class_balance_model.show(outpath=os.path.join(base_path, \"plots/imbalance.png\"))\n",
    "    context.log_artifact(PlotArtifact(\"imbalance\", body=plt.gcf()), local_path=\"plots/imbalance.html\")\n",
    "    \n",
    "    # plot feature correlation\n",
    "    _gcf_clear(plt)\n",
    "    tblcorr = table.corr()\n",
    "    ax = plt.axes()\n",
    "    sns.heatmap(tblcorr, ax=ax, annot=False, cmap=plt.cm.Reds)\n",
    "    ax.set_title(\"features correlation\")\n",
    "    plt.savefig(os.path.join(base_path, \"plots/corr.png\"))\n",
    "    context.log_artifact(PlotArtifact(\"correlation\",  body=plt.gcf()), local_path=\"plots/corr.html\")\n",
    "    \n",
    "    # plot histogram\n",
    "    \n",
    "    _gcf_clear(plt)\n",
    "    ax = plt.axes()\n",
    "    ax.set_yticklabels([])\n",
    "    ax.set_xticklabels([])\n",
    "    figarray = table.hist(ax=ax, ylabelsize=5, xlabelsize=5)\n",
    "    for row in figarray:\n",
    "        for f in row:\n",
    "            f.set_title(\"\")\n",
    "    ax.set_title(\"features histogram\")\n",
    "    plt.savefig(os.path.join(base_path, \"plots/hist.png\"))\n",
    "    context.log_artifact(PlotArtifact(\"histograms\",  body=plt.gcf()), local_path=\"plots/hist.html\")\n",
    "       \n",
    "    _gcf_clear(plt)"
   ]
  },
  {
   "cell_type": "code",
   "execution_count": null,
   "metadata": {},
   "outputs": [],
   "source": [
    "mlrunctx = get_or_create_ctx('describe')"
   ]
  },
  {
   "cell_type": "code",
   "execution_count": null,
   "metadata": {},
   "outputs": [],
   "source": [
    "mlrunctx.artifact_path"
   ]
  },
  {
   "cell_type": "code",
   "execution_count": null,
   "metadata": {},
   "outputs": [],
   "source": [
    "key = \"summary\"\n",
    "label_column = \"is_error\"\n",
    "class_labels = [0, 1]\n",
    "\n",
    "describe(mlrunctx,pqf,label_column,class_labels,key)"
   ]
  },
  {
   "cell_type": "code",
   "execution_count": null,
   "metadata": {},
   "outputs": [],
   "source": []
  }
 ],
 "metadata": {
  "kernelspec": {
   "display_name": "Python 3",
   "language": "python",
   "name": "python3"
  },
  "language_info": {
   "codemirror_mode": {
    "name": "ipython",
    "version": 3
   },
   "file_extension": ".py",
   "mimetype": "text/x-python",
   "name": "python",
   "nbconvert_exporter": "python",
   "pygments_lexer": "ipython3",
   "version": "3.6.8"
  }
 },
 "nbformat": 4,
 "nbformat_minor": 4
}
